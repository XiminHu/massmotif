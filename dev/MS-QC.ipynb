{
 "cells": [
  {
   "cell_type": "code",
   "execution_count": 1,
   "metadata": {},
   "outputs": [],
   "source": [
    "import pymzml\n",
    "import matplotlib.pyplot as plt\n",
    "import numpy as np\n",
    "\n",
    "import pandas as pd\n",
    "import glob\n",
    "from tqdm import tqdm\n",
    "from pathlib import Path "
   ]
  },
  {
   "cell_type": "code",
   "execution_count": 3,
   "metadata": {},
   "outputs": [],
   "source": [
    "path = 'D:/UW/massmotif/mzml/DRO_DIE_1ppm_10h_exp1_method_2.mzML'"
   ]
  },
  {
   "cell_type": "code",
   "execution_count": 2,
   "metadata": {},
   "outputs": [],
   "source": [
    "def get_scans(path, ms_all = False, ms_lv = 1):\n",
    "    run = pymzml.run.Reader(path)\n",
    "    scans = []\n",
    "    if ms_all == False:\n",
    "        for scan in run:\n",
    "            if scan.ms_level == ms_lv:\n",
    "                scans.append(scan)\n",
    "    elif ms_all == True:\n",
    "        for scan in run:\n",
    "            scans.append(scan)\n",
    "            \n",
    "    return scans"
   ]
  },
  {
   "cell_type": "code",
   "execution_count": 3,
   "metadata": {},
   "outputs": [
    {
     "ename": "NameError",
     "evalue": "name 'path' is not defined",
     "output_type": "error",
     "traceback": [
      "\u001b[1;31m---------------------------------------------------------------------------\u001b[0m",
      "\u001b[1;31mNameError\u001b[0m                                 Traceback (most recent call last)",
      "\u001b[1;32m<ipython-input-3-982391a68eca>\u001b[0m in \u001b[0;36m<module>\u001b[1;34m\u001b[0m\n\u001b[1;32m----> 1\u001b[1;33m \u001b[0mscans\u001b[0m \u001b[1;33m=\u001b[0m \u001b[0mget_scans\u001b[0m\u001b[1;33m(\u001b[0m\u001b[0mpath\u001b[0m\u001b[1;33m,\u001b[0m \u001b[1;32mTrue\u001b[0m\u001b[1;33m)\u001b[0m\u001b[1;33m\u001b[0m\u001b[1;33m\u001b[0m\u001b[0m\n\u001b[0m",
      "\u001b[1;31mNameError\u001b[0m: name 'path' is not defined"
     ]
    }
   ],
   "source": [
    "scans = get_scans(path, True)"
   ]
  },
  {
   "cell_type": "code",
   "execution_count": 40,
   "metadata": {},
   "outputs": [
    {
     "data": {
      "text/plain": [
       "64233.562317848206"
      ]
     },
     "execution_count": 40,
     "metadata": {},
     "output_type": "execute_result"
    }
   ],
   "source": [
    "scans[4].selected_precursors[0]['i']"
   ]
  },
  {
   "cell_type": "code",
   "execution_count": 4,
   "metadata": {},
   "outputs": [],
   "source": [
    "def ms_qc(mzml_scans):\n",
    "    # seperate ms1 and ms2\n",
    "    ms1 = []\n",
    "    ms2 = []\n",
    "    for scan in mzml_scans:\n",
    "        if scan.ms_level == 1:\n",
    "            ms1.append(scan)\n",
    "        elif scan.ms_level == 2:\n",
    "            ms2.append(scan)\n",
    "    \n",
    "    # ms1 QC\n",
    "    tot_ms1 = len(ms1)\n",
    "    TIC = []\n",
    "    for scan in ms1:\n",
    "        TIC.append(scan.TIC)\n",
    "        \n",
    "    tic_h = max(TIC)\n",
    "    tic_avg = sum(TIC) / len(TIC)\n",
    "    \n",
    "    #ms2 QC\n",
    "    if len(ms2) != 0:\n",
    "        tot_ms2 = len(ms2)\n",
    "        h_response = []\n",
    "        precursor_mz = []\n",
    "        precursor_i = []\n",
    "        for scan in ms2:\n",
    "            h_response.append(scan.i.max())\n",
    "            precursor_mz.append(scan.selected_precursors[0]['mz'])\n",
    "            precursor_i.append(scan.selected_precursors[0]['i'])\n",
    "        avg_response_h = sum(h_response) / len(h_response)\n",
    "        avg_precursor_i = sum(precursor_i) / len(precursor_i)\n",
    "        l_precursor_i = min(precursor_i)\n",
    "        precursor_range = str(round(min(precursor_mz), 2)) + '~' + str(round(max(precursor_mz),2))\n",
    "    \n",
    "    result = [tot_ms1, \"{:.2e}\".format(tic_h), \"{:.2e}\".format(tic_avg), round(avg_response_h, 2), \"{:.2e}\".format(avg_precursor_i), round(l_precursor_i, 2), precursor_range]\n",
    "\n",
    "    return result"
   ]
  },
  {
   "cell_type": "code",
   "execution_count": 73,
   "metadata": {},
   "outputs": [
    {
     "data": {
      "text/plain": [
       "[945, '2.59e+07', '8.52e+06', 5732.45, '7.87e+04', 6971.21, '100.93~690.37']"
      ]
     },
     "execution_count": 73,
     "metadata": {},
     "output_type": "execute_result"
    }
   ],
   "source": [
    "ms_qc(scans)"
   ]
  },
  {
   "cell_type": "code",
   "execution_count": 5,
   "metadata": {},
   "outputs": [],
   "source": [
    "def batch_scans(path):\n",
    "    all_files = glob.glob(path + \"/*.mzML\")\n",
    "    scans = []\n",
    "    file_list = []\n",
    "    for file in tqdm(all_files):\n",
    "        scan = get_scans(file, True)\n",
    "        scans.append(scan)\n",
    "        file_list.append(Path(file).name)\n",
    "    print(file_list)\n",
    "    print('Batch read finished!')\n",
    "    \n",
    "    return scans, file_list"
   ]
  },
  {
   "cell_type": "code",
   "execution_count": 58,
   "metadata": {},
   "outputs": [
    {
     "name": "stdout",
     "output_type": "stream",
     "text": [
      "['DRO_DIE_1ppm_10h_exp1_method_1.mzML', 'DRO_DIE_1ppm_10h_exp1_method_2.mzML', 'DRO_DIE_1ppm_29h_exp1_method_1.mzML', 'DRO_DIE_1ppm_29h_exp1_method_2.mzML']\n",
      "Batch read finished!\n"
     ]
    }
   ],
   "source": [
    "batch_scan, file_list = batch_scans('../mzml/')"
   ]
  },
  {
   "cell_type": "code",
   "execution_count": 76,
   "metadata": {},
   "outputs": [
    {
     "name": "stderr",
     "output_type": "stream",
     "text": [
      "100%|██████████| 4/4 [00:01<00:00,  2.44it/s]\n"
     ]
    }
   ],
   "source": [
    "qc_result = []\n",
    "ran_scan = len(batch_scan)\n",
    "for index in tqdm(np.arange(ran_scan)):\n",
    "    result = ms_qc(batch_scan[index])\n",
    "    result = [file_list[index]] + result\n",
    "    qc_result.append(result)\n",
    "col = ['file_name', 'total_ms1_scan', 'max_tic', 'avg_tic', 'avg_ms2_max', 'avg_ms2precursor_i', 'min_ms2precursor_i', 'ms2precursor_range']\n",
    "d_result = pd.DataFrame(qc_result, columns = col)"
   ]
  },
  {
   "cell_type": "code",
   "execution_count": 77,
   "metadata": {},
   "outputs": [
    {
     "data": {
      "text/html": [
       "<div>\n",
       "<style scoped>\n",
       "    .dataframe tbody tr th:only-of-type {\n",
       "        vertical-align: middle;\n",
       "    }\n",
       "\n",
       "    .dataframe tbody tr th {\n",
       "        vertical-align: top;\n",
       "    }\n",
       "\n",
       "    .dataframe thead th {\n",
       "        text-align: right;\n",
       "    }\n",
       "</style>\n",
       "<table border=\"1\" class=\"dataframe\">\n",
       "  <thead>\n",
       "    <tr style=\"text-align: right;\">\n",
       "      <th></th>\n",
       "      <th>file_name</th>\n",
       "      <th>total_ms1_scan</th>\n",
       "      <th>max_tic</th>\n",
       "      <th>avg_tic</th>\n",
       "      <th>avg_ms2_max</th>\n",
       "      <th>avg_ms2precursor_i</th>\n",
       "      <th>min_ms2precursor_i</th>\n",
       "      <th>ms2precursor_range</th>\n",
       "    </tr>\n",
       "  </thead>\n",
       "  <tbody>\n",
       "    <tr>\n",
       "      <td>0</td>\n",
       "      <td>DRO_DIE_1ppm_10h_exp1_method_1.mzML</td>\n",
       "      <td>903</td>\n",
       "      <td>2.59e+07</td>\n",
       "      <td>8.84e+06</td>\n",
       "      <td>5728.36</td>\n",
       "      <td>8.00e+04</td>\n",
       "      <td>6179.54</td>\n",
       "      <td>100.93~699.52</td>\n",
       "    </tr>\n",
       "    <tr>\n",
       "      <td>1</td>\n",
       "      <td>DRO_DIE_1ppm_10h_exp1_method_2.mzML</td>\n",
       "      <td>945</td>\n",
       "      <td>2.59e+07</td>\n",
       "      <td>8.52e+06</td>\n",
       "      <td>5732.45</td>\n",
       "      <td>7.87e+04</td>\n",
       "      <td>6971.21</td>\n",
       "      <td>100.93~690.37</td>\n",
       "    </tr>\n",
       "    <tr>\n",
       "      <td>2</td>\n",
       "      <td>DRO_DIE_1ppm_29h_exp1_method_1.mzML</td>\n",
       "      <td>917</td>\n",
       "      <td>2.59e+07</td>\n",
       "      <td>8.78e+06</td>\n",
       "      <td>5672.97</td>\n",
       "      <td>7.97e+04</td>\n",
       "      <td>7753.91</td>\n",
       "      <td>100.93~691.52</td>\n",
       "    </tr>\n",
       "    <tr>\n",
       "      <td>3</td>\n",
       "      <td>DRO_DIE_1ppm_29h_exp1_method_2.mzML</td>\n",
       "      <td>951</td>\n",
       "      <td>2.53e+07</td>\n",
       "      <td>8.50e+06</td>\n",
       "      <td>5798.55</td>\n",
       "      <td>7.82e+04</td>\n",
       "      <td>7589.72</td>\n",
       "      <td>100.93~691.51</td>\n",
       "    </tr>\n",
       "  </tbody>\n",
       "</table>\n",
       "</div>"
      ],
      "text/plain": [
       "                             file_name  total_ms1_scan   max_tic   avg_tic  \\\n",
       "0  DRO_DIE_1ppm_10h_exp1_method_1.mzML             903  2.59e+07  8.84e+06   \n",
       "1  DRO_DIE_1ppm_10h_exp1_method_2.mzML             945  2.59e+07  8.52e+06   \n",
       "2  DRO_DIE_1ppm_29h_exp1_method_1.mzML             917  2.59e+07  8.78e+06   \n",
       "3  DRO_DIE_1ppm_29h_exp1_method_2.mzML             951  2.53e+07  8.50e+06   \n",
       "\n",
       "   avg_ms2_max avg_ms2precursor_i  min_ms2precursor_i ms2precursor_range  \n",
       "0      5728.36           8.00e+04             6179.54      100.93~699.52  \n",
       "1      5732.45           7.87e+04             6971.21      100.93~690.37  \n",
       "2      5672.97           7.97e+04             7753.91      100.93~691.52  \n",
       "3      5798.55           7.82e+04             7589.72      100.93~691.51  "
      ]
     },
     "execution_count": 77,
     "metadata": {},
     "output_type": "execute_result"
    }
   ],
   "source": [
    "d_result"
   ]
  },
  {
   "cell_type": "code",
   "execution_count": 6,
   "metadata": {},
   "outputs": [],
   "source": [
    "def qc_gen(path):\n",
    "    batch_scan, file_list = batch_scans(path)\n",
    "    print('All files read in!')\n",
    "    \n",
    "    qc_result = []\n",
    "    ran_scan = len(batch_scan)\n",
    "    print('Generating QC report...')\n",
    "    for index in tqdm(np.arange(ran_scan)):\n",
    "        result = ms_qc(batch_scan[index])\n",
    "        \n",
    "        result = [file_list[index]] + result\n",
    "        qc_result.append(result)\n",
    "    print('Generating dataframe...')\n",
    "    col = ['file_name', 'total_ms1_scan', 'max_tic', 'avg_tic', 'avg_ms2_max', 'avg_ms2precursor_i', 'min_ms2precursor_i', 'ms2precursor_range']\n",
    "    d_result = pd.DataFrame(qc_result, columns = col)\n",
    "    print('Finished!')\n",
    "    \n",
    "    return d_result"
   ]
  },
  {
   "cell_type": "code",
   "execution_count": 7,
   "metadata": {},
   "outputs": [
    {
     "name": "stderr",
     "output_type": "stream",
     "text": [
      "100%|██████████| 6/6 [00:23<00:00,  3.89s/it]\n"
     ]
    },
    {
     "name": "stdout",
     "output_type": "stream",
     "text": [
      "['20200413-DRODIE 1ppm 10h exp1 autoMSMS neg.mzML', '20200413-DRODIE 1ppm 10h exp2 autoMSMS neg.mzML', '20200413-DRODIE 1ppm 29h exp1 autoMSMS neg.mzML', '20200413-DRODIE 1ppm 29h exp2 autoMSMS neg.mzML', '20200413-DRODIE 1ppm 4h exp1 autoMSMS neg.mzML', '20200413-DRODIE 1ppm 4h exp2 autoMSMS neg.mzML']\n",
      "Batch read finished!\n",
      "All files read in!\n",
      "Generating QC report...\n"
     ]
    },
    {
     "name": "stderr",
     "output_type": "stream",
     "text": [
      "100%|██████████| 6/6 [00:05<00:00,  1.17it/s]\n"
     ]
    },
    {
     "name": "stdout",
     "output_type": "stream",
     "text": [
      "Generating dataframe...\n",
      "Finished!\n"
     ]
    },
    {
     "data": {
      "text/html": [
       "<div>\n",
       "<style scoped>\n",
       "    .dataframe tbody tr th:only-of-type {\n",
       "        vertical-align: middle;\n",
       "    }\n",
       "\n",
       "    .dataframe tbody tr th {\n",
       "        vertical-align: top;\n",
       "    }\n",
       "\n",
       "    .dataframe thead th {\n",
       "        text-align: right;\n",
       "    }\n",
       "</style>\n",
       "<table border=\"1\" class=\"dataframe\">\n",
       "  <thead>\n",
       "    <tr style=\"text-align: right;\">\n",
       "      <th></th>\n",
       "      <th>file_name</th>\n",
       "      <th>total_ms1_scan</th>\n",
       "      <th>max_tic</th>\n",
       "      <th>avg_tic</th>\n",
       "      <th>avg_ms2_max</th>\n",
       "      <th>avg_ms2precursor_i</th>\n",
       "      <th>min_ms2precursor_i</th>\n",
       "      <th>ms2precursor_range</th>\n",
       "    </tr>\n",
       "  </thead>\n",
       "  <tbody>\n",
       "    <tr>\n",
       "      <td>0</td>\n",
       "      <td>20200413-DRODIE 1ppm 10h exp1 autoMSMS neg.mzML</td>\n",
       "      <td>3000</td>\n",
       "      <td>4.41e+06</td>\n",
       "      <td>1.99e+05</td>\n",
       "      <td>3729.09</td>\n",
       "      <td>6.85e+04</td>\n",
       "      <td>9654.36</td>\n",
       "      <td>200.01~499.63</td>\n",
       "    </tr>\n",
       "    <tr>\n",
       "      <td>1</td>\n",
       "      <td>20200413-DRODIE 1ppm 10h exp2 autoMSMS neg.mzML</td>\n",
       "      <td>2915</td>\n",
       "      <td>4.52e+06</td>\n",
       "      <td>2.09e+05</td>\n",
       "      <td>3650.83</td>\n",
       "      <td>6.86e+04</td>\n",
       "      <td>9101.39</td>\n",
       "      <td>200.17~499.63</td>\n",
       "    </tr>\n",
       "    <tr>\n",
       "      <td>2</td>\n",
       "      <td>20200413-DRODIE 1ppm 29h exp1 autoMSMS neg.mzML</td>\n",
       "      <td>2884</td>\n",
       "      <td>4.57e+06</td>\n",
       "      <td>2.06e+05</td>\n",
       "      <td>3496.00</td>\n",
       "      <td>6.82e+04</td>\n",
       "      <td>8048.62</td>\n",
       "      <td>200.01~499.62</td>\n",
       "    </tr>\n",
       "    <tr>\n",
       "      <td>3</td>\n",
       "      <td>20200413-DRODIE 1ppm 29h exp2 autoMSMS neg.mzML</td>\n",
       "      <td>2898</td>\n",
       "      <td>4.63e+06</td>\n",
       "      <td>2.10e+05</td>\n",
       "      <td>3745.36</td>\n",
       "      <td>6.96e+04</td>\n",
       "      <td>13063.84</td>\n",
       "      <td>201.01~499.63</td>\n",
       "    </tr>\n",
       "    <tr>\n",
       "      <td>4</td>\n",
       "      <td>20200413-DRODIE 1ppm 4h exp1 autoMSMS neg.mzML</td>\n",
       "      <td>2930</td>\n",
       "      <td>4.56e+06</td>\n",
       "      <td>2.06e+05</td>\n",
       "      <td>3558.53</td>\n",
       "      <td>6.85e+04</td>\n",
       "      <td>9287.11</td>\n",
       "      <td>200.01~499.62</td>\n",
       "    </tr>\n",
       "    <tr>\n",
       "      <td>5</td>\n",
       "      <td>20200413-DRODIE 1ppm 4h exp2 autoMSMS neg.mzML</td>\n",
       "      <td>2941</td>\n",
       "      <td>4.57e+06</td>\n",
       "      <td>2.08e+05</td>\n",
       "      <td>3802.99</td>\n",
       "      <td>6.83e+04</td>\n",
       "      <td>9802.40</td>\n",
       "      <td>200.01~499.63</td>\n",
       "    </tr>\n",
       "  </tbody>\n",
       "</table>\n",
       "</div>"
      ],
      "text/plain": [
       "                                         file_name  total_ms1_scan   max_tic  \\\n",
       "0  20200413-DRODIE 1ppm 10h exp1 autoMSMS neg.mzML            3000  4.41e+06   \n",
       "1  20200413-DRODIE 1ppm 10h exp2 autoMSMS neg.mzML            2915  4.52e+06   \n",
       "2  20200413-DRODIE 1ppm 29h exp1 autoMSMS neg.mzML            2884  4.57e+06   \n",
       "3  20200413-DRODIE 1ppm 29h exp2 autoMSMS neg.mzML            2898  4.63e+06   \n",
       "4   20200413-DRODIE 1ppm 4h exp1 autoMSMS neg.mzML            2930  4.56e+06   \n",
       "5   20200413-DRODIE 1ppm 4h exp2 autoMSMS neg.mzML            2941  4.57e+06   \n",
       "\n",
       "    avg_tic  avg_ms2_max avg_ms2precursor_i  min_ms2precursor_i  \\\n",
       "0  1.99e+05      3729.09           6.85e+04             9654.36   \n",
       "1  2.09e+05      3650.83           6.86e+04             9101.39   \n",
       "2  2.06e+05      3496.00           6.82e+04             8048.62   \n",
       "3  2.10e+05      3745.36           6.96e+04            13063.84   \n",
       "4  2.06e+05      3558.53           6.85e+04             9287.11   \n",
       "5  2.08e+05      3802.99           6.83e+04             9802.40   \n",
       "\n",
       "  ms2precursor_range  \n",
       "0      200.01~499.63  \n",
       "1      200.17~499.63  \n",
       "2      200.01~499.62  \n",
       "3      201.01~499.63  \n",
       "4      200.01~499.62  \n",
       "5      200.01~499.63  "
      ]
     },
     "execution_count": 7,
     "metadata": {},
     "output_type": "execute_result"
    }
   ],
   "source": [
    "qc_gen('../mzml/20200416mzml/')"
   ]
  }
 ],
 "metadata": {
  "kernelspec": {
   "display_name": "Python 3",
   "language": "python",
   "name": "python3"
  },
  "language_info": {
   "codemirror_mode": {
    "name": "ipython",
    "version": 3
   },
   "file_extension": ".py",
   "mimetype": "text/x-python",
   "name": "python",
   "nbconvert_exporter": "python",
   "pygments_lexer": "ipython3",
   "version": "3.7.4"
  }
 },
 "nbformat": 4,
 "nbformat_minor": 2
}
