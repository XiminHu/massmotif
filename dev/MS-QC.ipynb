{
 "cells": [
  {
   "cell_type": "code",
   "execution_count": 1,
   "metadata": {},
   "outputs": [
    {
     "name": "stdout",
     "output_type": "stream",
     "text": [
      "Today's date: 17042020 14-22-36\n"
     ]
    }
   ],
   "source": [
    "from datetime import datetime\n",
    "now = datetime.now()\n",
    "dt_string = now.strftime(\"%d%m%Y %H-%M-%S\")\n",
    "print(\"Today's date:\", dt_string)"
   ]
  },
  {
   "cell_type": "code",
   "execution_count": 2,
   "metadata": {},
   "outputs": [],
   "source": [
    "import pymzml\n",
    "import matplotlib.pyplot as plt\n",
    "import numpy as np\n",
    "\n",
    "import pandas as pd\n",
    "import glob\n",
    "from tqdm import tqdm\n",
    "from pathlib import Path "
   ]
  },
  {
   "cell_type": "code",
   "execution_count": 7,
   "metadata": {},
   "outputs": [],
   "source": [
    "path = 'D:/UW/massmotif/mzml/DRO_DIE_1ppm_10h_exp1_method_2.mzML'"
   ]
  },
  {
   "cell_type": "code",
   "execution_count": 8,
   "metadata": {},
   "outputs": [],
   "source": [
    "scans = get_scans(path)"
   ]
  },
  {
   "cell_type": "code",
   "execution_count": 3,
   "metadata": {},
   "outputs": [],
   "source": [
    "def get_scans(path, ms_all = False, ms_lv = 1):\n",
    "    run = pymzml.run.Reader(path)\n",
    "    scans = []\n",
    "    if ms_all == False:\n",
    "        for scan in run:\n",
    "            if scan.ms_level == ms_lv:\n",
    "                scans.append(scan)\n",
    "    elif ms_all == True:\n",
    "        for scan in run:\n",
    "            scans.append(scan)\n",
    "            \n",
    "    return scans"
   ]
  },
  {
   "cell_type": "code",
   "execution_count": 4,
   "metadata": {},
   "outputs": [],
   "source": [
    "def ms_qc(mzml_scans):\n",
    "    # seperate ms1 and ms2\n",
    "    ms1 = []\n",
    "    ms2 = []\n",
    "    for scan in mzml_scans:\n",
    "        if scan.ms_level == 1:\n",
    "            ms1.append(scan)\n",
    "        elif scan.ms_level == 2:\n",
    "            ms2.append(scan)\n",
    "    \n",
    "    # ms1 QC\n",
    "    tot_ms1 = len(ms1)\n",
    "    TIC = []\n",
    "    for scan in ms1:\n",
    "        TIC.append(scan.TIC)\n",
    "        \n",
    "    tic_h = max(TIC)\n",
    "    tic_avg = sum(TIC) / len(TIC)\n",
    "    \n",
    "    #ms2 QC\n",
    "    if len(ms2) != 0:\n",
    "        tot_ms2 = len(ms2)\n",
    "        h_response = []\n",
    "        precursor_mz = []\n",
    "        precursor_i = []\n",
    "        for scan in ms2:\n",
    "            h_response.append(scan.i.max())\n",
    "            precursor_mz.append(scan.selected_precursors[0]['mz'])\n",
    "            precursor_i.append(scan.selected_precursors[0]['i'])\n",
    "        avg_response_h = sum(h_response) / len(h_response)\n",
    "        avg_precursor_i = sum(precursor_i) / len(precursor_i)\n",
    "        l_precursor_i = min(precursor_i)\n",
    "        precursor_range = str(round(min(precursor_mz), 2)) + '~' + str(round(max(precursor_mz),2))\n",
    "    \n",
    "    result = [tot_ms1, \"{:.2e}\".format(tic_h), \"{:.2e}\".format(tic_avg), tot_ms2, round(avg_response_h, 2), \"{:.2e}\".format(avg_precursor_i), round(l_precursor_i, 2), precursor_range]\n",
    "\n",
    "    return result"
   ]
  },
  {
   "cell_type": "code",
   "execution_count": 5,
   "metadata": {},
   "outputs": [],
   "source": [
    "def batch_scans(path):\n",
    "    all_files = glob.glob(path + \"/*.mzML\")\n",
    "    scans = []\n",
    "    file_list = []\n",
    "    for file in tqdm(all_files):\n",
    "        scan = get_scans(file, True)\n",
    "        scans.append(scan)\n",
    "        file_list.append(Path(file).name)\n",
    "    print(file_list)\n",
    "    print('Batch read finished!')\n",
    "    \n",
    "    return scans, file_list"
   ]
  },
  {
   "cell_type": "code",
   "execution_count": 6,
   "metadata": {},
   "outputs": [],
   "source": [
    "def qc_gen(path):\n",
    "    batch_scan, file_list = batch_scans(path)\n",
    "    print('All files read in!')\n",
    "    \n",
    "    qc_result = []\n",
    "    ran_scan = len(batch_scan)\n",
    "    print('Generating QC report...')\n",
    "    for index in tqdm(np.arange(ran_scan)):\n",
    "        result = ms_qc(batch_scan[index])\n",
    "        \n",
    "        result = [file_list[index]] + result\n",
    "        qc_result.append(result)\n",
    "    print('Generating dataframe...')\n",
    "    col = ['file_name', 'total_ms1_scan', 'max_tic', 'avg_tic','tot_ms2', 'avg_ms2_max', 'avg_ms2precursor_i', 'min_ms2precursor_i', 'ms2precursor_range']\n",
    "    d_result = pd.DataFrame(qc_result, columns = col)\n",
    "    print('Finished!')\n",
    "    \n",
    "    return d_result"
   ]
  },
  {
   "cell_type": "code",
   "execution_count": 10,
   "metadata": {},
   "outputs": [
    {
     "name": "stderr",
     "output_type": "stream",
     "text": [
      "100%|██████████| 6/6 [00:14<00:00,  2.47s/it]\n"
     ]
    },
    {
     "name": "stdout",
     "output_type": "stream",
     "text": [
      "['20200413-DRODIE 1ppm 10h exp1 autoMSMS neg.mzML', '20200413-DRODIE 1ppm 10h exp2 autoMSMS neg.mzML', '20200413-DRODIE 1ppm 29h exp1 autoMSMS neg.mzML', '20200413-DRODIE 1ppm 29h exp2 autoMSMS neg.mzML', '20200413-DRODIE 1ppm 4h exp1 autoMSMS neg.mzML', '20200413-DRODIE 1ppm 4h exp2 autoMSMS neg.mzML']\n",
      "Batch read finished!\n",
      "All files read in!\n",
      "Generating QC report...\n"
     ]
    },
    {
     "name": "stderr",
     "output_type": "stream",
     "text": [
      "100%|██████████| 6/6 [00:05<00:00,  1.17it/s]\n"
     ]
    },
    {
     "name": "stdout",
     "output_type": "stream",
     "text": [
      "Generating dataframe...\n",
      "Finished!\n"
     ]
    },
    {
     "data": {
      "text/html": [
       "<div>\n",
       "<style scoped>\n",
       "    .dataframe tbody tr th:only-of-type {\n",
       "        vertical-align: middle;\n",
       "    }\n",
       "\n",
       "    .dataframe tbody tr th {\n",
       "        vertical-align: top;\n",
       "    }\n",
       "\n",
       "    .dataframe thead th {\n",
       "        text-align: right;\n",
       "    }\n",
       "</style>\n",
       "<table border=\"1\" class=\"dataframe\">\n",
       "  <thead>\n",
       "    <tr style=\"text-align: right;\">\n",
       "      <th></th>\n",
       "      <th>file_name</th>\n",
       "      <th>total_ms1_scan</th>\n",
       "      <th>max_tic</th>\n",
       "      <th>avg_tic</th>\n",
       "      <th>tot_ms2</th>\n",
       "      <th>avg_ms2_max</th>\n",
       "      <th>avg_ms2precursor_i</th>\n",
       "      <th>min_ms2precursor_i</th>\n",
       "      <th>ms2precursor_range</th>\n",
       "    </tr>\n",
       "  </thead>\n",
       "  <tbody>\n",
       "    <tr>\n",
       "      <td>0</td>\n",
       "      <td>20200413-DRODIE 1ppm 10h exp1 autoMSMS neg.mzML</td>\n",
       "      <td>3000</td>\n",
       "      <td>4.41e+06</td>\n",
       "      <td>1.99e+05</td>\n",
       "      <td>1458</td>\n",
       "      <td>3729.09</td>\n",
       "      <td>6.85e+04</td>\n",
       "      <td>9654.36</td>\n",
       "      <td>200.01~499.63</td>\n",
       "    </tr>\n",
       "    <tr>\n",
       "      <td>1</td>\n",
       "      <td>20200413-DRODIE 1ppm 10h exp2 autoMSMS neg.mzML</td>\n",
       "      <td>2915</td>\n",
       "      <td>4.52e+06</td>\n",
       "      <td>2.09e+05</td>\n",
       "      <td>1551</td>\n",
       "      <td>3650.83</td>\n",
       "      <td>6.86e+04</td>\n",
       "      <td>9101.39</td>\n",
       "      <td>200.17~499.63</td>\n",
       "    </tr>\n",
       "    <tr>\n",
       "      <td>2</td>\n",
       "      <td>20200413-DRODIE 1ppm 29h exp1 autoMSMS neg.mzML</td>\n",
       "      <td>2884</td>\n",
       "      <td>4.57e+06</td>\n",
       "      <td>2.06e+05</td>\n",
       "      <td>1572</td>\n",
       "      <td>3496.00</td>\n",
       "      <td>6.82e+04</td>\n",
       "      <td>8048.62</td>\n",
       "      <td>200.01~499.62</td>\n",
       "    </tr>\n",
       "    <tr>\n",
       "      <td>3</td>\n",
       "      <td>20200413-DRODIE 1ppm 29h exp2 autoMSMS neg.mzML</td>\n",
       "      <td>2898</td>\n",
       "      <td>4.63e+06</td>\n",
       "      <td>2.10e+05</td>\n",
       "      <td>1566</td>\n",
       "      <td>3745.36</td>\n",
       "      <td>6.96e+04</td>\n",
       "      <td>13063.84</td>\n",
       "      <td>201.01~499.63</td>\n",
       "    </tr>\n",
       "    <tr>\n",
       "      <td>4</td>\n",
       "      <td>20200413-DRODIE 1ppm 4h exp1 autoMSMS neg.mzML</td>\n",
       "      <td>2930</td>\n",
       "      <td>4.56e+06</td>\n",
       "      <td>2.06e+05</td>\n",
       "      <td>1548</td>\n",
       "      <td>3558.53</td>\n",
       "      <td>6.85e+04</td>\n",
       "      <td>9287.11</td>\n",
       "      <td>200.01~499.62</td>\n",
       "    </tr>\n",
       "    <tr>\n",
       "      <td>5</td>\n",
       "      <td>20200413-DRODIE 1ppm 4h exp2 autoMSMS neg.mzML</td>\n",
       "      <td>2941</td>\n",
       "      <td>4.57e+06</td>\n",
       "      <td>2.08e+05</td>\n",
       "      <td>1548</td>\n",
       "      <td>3802.99</td>\n",
       "      <td>6.83e+04</td>\n",
       "      <td>9802.40</td>\n",
       "      <td>200.01~499.63</td>\n",
       "    </tr>\n",
       "  </tbody>\n",
       "</table>\n",
       "</div>"
      ],
      "text/plain": [
       "                                         file_name  total_ms1_scan   max_tic  \\\n",
       "0  20200413-DRODIE 1ppm 10h exp1 autoMSMS neg.mzML            3000  4.41e+06   \n",
       "1  20200413-DRODIE 1ppm 10h exp2 autoMSMS neg.mzML            2915  4.52e+06   \n",
       "2  20200413-DRODIE 1ppm 29h exp1 autoMSMS neg.mzML            2884  4.57e+06   \n",
       "3  20200413-DRODIE 1ppm 29h exp2 autoMSMS neg.mzML            2898  4.63e+06   \n",
       "4   20200413-DRODIE 1ppm 4h exp1 autoMSMS neg.mzML            2930  4.56e+06   \n",
       "5   20200413-DRODIE 1ppm 4h exp2 autoMSMS neg.mzML            2941  4.57e+06   \n",
       "\n",
       "    avg_tic  tot_ms2  avg_ms2_max avg_ms2precursor_i  min_ms2precursor_i  \\\n",
       "0  1.99e+05     1458      3729.09           6.85e+04             9654.36   \n",
       "1  2.09e+05     1551      3650.83           6.86e+04             9101.39   \n",
       "2  2.06e+05     1572      3496.00           6.82e+04             8048.62   \n",
       "3  2.10e+05     1566      3745.36           6.96e+04            13063.84   \n",
       "4  2.06e+05     1548      3558.53           6.85e+04             9287.11   \n",
       "5  2.08e+05     1548      3802.99           6.83e+04             9802.40   \n",
       "\n",
       "  ms2precursor_range  \n",
       "0      200.01~499.63  \n",
       "1      200.17~499.63  \n",
       "2      200.01~499.62  \n",
       "3      201.01~499.63  \n",
       "4      200.01~499.62  \n",
       "5      200.01~499.63  "
      ]
     },
     "execution_count": 10,
     "metadata": {},
     "output_type": "execute_result"
    }
   ],
   "source": [
    "qc_gen('../mzml/20200416mzml/')"
   ]
  },
  {
   "cell_type": "markdown",
   "metadata": {},
   "source": [
    "# Target Feature Top N tracer"
   ]
  },
  {
   "cell_type": "code",
   "execution_count": 33,
   "metadata": {},
   "outputs": [],
   "source": [
    "def mz_locator(input_list, mz, error, select_app = True): #updated to select_app, when false only select closest one, when true append all, use as a backdoor for now if closest algorithm messed up\n",
    "    '''\n",
    "    Find specific mzs from given mz and error range out from a given mz array\n",
    "    input list: mz list\n",
    "    mz: input_mz that want to be found\n",
    "    error: error range is now changed to ppm level\n",
    "    '''\n",
    "    target_mz = []\n",
    "    target_index = []\n",
    "    \n",
    "    #ppm conversion\n",
    "    error = error * 1e-6\n",
    "    \n",
    "    lower_mz = mz - error * mz\n",
    "    higher_mz = mz + error * mz\n",
    "\n",
    "    for i, mzs in enumerate(input_list):\n",
    "        if mzs < lower_mz:\n",
    "            continue\n",
    "        elif mzs >= lower_mz:\n",
    "            if mzs <= higher_mz:\n",
    "                target_mz.append(mzs)\n",
    "                target_index.append(i)\n",
    "\n",
    "    if select_app == False:\n",
    "        if len(target_mz) != 0:\n",
    "            target_error = [abs(i - mz) for i in target_mz]\n",
    "            minpos = target_error.index(min(target_error)) \n",
    "            t_mz = target_mz[minpos]\n",
    "            t_i = target_index[minpos]\n",
    "        else:\n",
    "            t_mz = 0\n",
    "            t_i = 'NA'\n",
    "    if select_app == True:\n",
    "        t_mz = target_mz\n",
    "        t_i = target_index\n",
    "        \n",
    "    return t_mz, t_i"
   ]
  },
  {
   "cell_type": "code",
   "execution_count": 73,
   "metadata": {},
   "outputs": [],
   "source": [
    "def topn_search(mzml_scans, mz, error):\n",
    "    result = []\n",
    "    for scan in tqdm(mzml_scans):\n",
    "        mz_i_pair = list(zip(scan.mz, scan.i))\n",
    "        mz_i_pair.sort(key=lambda x: x[1], reverse=True)\n",
    "        def unzip(iterable):\n",
    "            return list(zip(*iterable))\n",
    "        sorted_mz = unzip(mz_i_pair)[0]\n",
    "        sorted_i = unzip(mz_i_pair)[1]\n",
    "        t_mz, t_i = mz_locator(sorted_mz, mz, error, False)\n",
    "        if t_i != 'NA':\n",
    "            result.append([mz_i_pair[t_i], t_i, scan.scan_time[0]])\n",
    "    \n",
    "    return result"
   ]
  },
  {
   "cell_type": "code",
   "execution_count": 72,
   "metadata": {},
   "outputs": [],
   "source": [
    "r_test = topn_search(scans, 255.1576, 50)"
   ]
  },
  {
   "cell_type": "code",
   "execution_count": 155,
   "metadata": {},
   "outputs": [],
   "source": [
    "def topn_summary_s(mzml_scans, mz, error, rt_min = 0, rt_max = 30, topN = 5):\n",
    "    \n",
    "    r_topn = topn_search(mzml_scans, mz, error)\n",
    "    r_topn = [i for i in r_topn if i[2] >= rt_min and i[2] <=rt_max]\n",
    "    \n",
    "    def get_col(arr, col):\n",
    "        return list(map(lambda x : x[col], arr))\n",
    "    \n",
    "    mz_list = get_col(get_col(r_topn, 0), 0)\n",
    "    i_list = get_col(get_col(r_topn, 0), 1)\n",
    "    top_list = get_col(r_topn, 1)\n",
    "    \n",
    "    r_top10 = [i for i in r_topn if i[1] <= (topN - 1)]\n",
    "    i_list_t10 = get_col(get_col(r_top10, 0), 1)\n",
    "    \n",
    "    if len(r_top10) > 0:\n",
    "        i_range = str(round(min(i_list_t10), 2)) + '~' + str(round(max(i_list_t10), 2))\n",
    "\n",
    "        n_range = str(int(max(top_list)+1)) + '~' + str(int(min(top_list)+1))\n",
    "\n",
    "        print('intensity range when in top', topN, ':', i_range, ', topn_range', n_range, ', total scans in top', topN, ':', len(i_list_t10))\n",
    "\n",
    "        number_topn = get_col(r_top10, 1)\n",
    "        plt.figure(figsize = (10,6))\n",
    "        plt.hist(number_topn, bins = topN);\n",
    "        plt.xlim(0,topN)\n",
    "        plt.show()\n",
    "    else:\n",
    "        print('not found within selected top N range!')\n",
    "    \n",
    "    return i_list, top_list"
   ]
  },
  {
   "cell_type": "code",
   "execution_count": 160,
   "metadata": {},
   "outputs": [
    {
     "name": "stderr",
     "output_type": "stream",
     "text": [
      "100%|██████████| 945/945 [00:24<00:00, 38.68it/s] \n"
     ]
    },
    {
     "name": "stdout",
     "output_type": "stream",
     "text": [
      "not found within selected top N range!\n"
     ]
    }
   ],
   "source": [
    "i_list, top_list = topn_summary_s(scans, 225.1576, 50, 10)"
   ]
  },
  {
   "cell_type": "code",
   "execution_count": 171,
   "metadata": {},
   "outputs": [],
   "source": [
    "def topn_summary_b(mzml_scans, mzs, error, rt_min = 0, rt_max = 30, topN = 5):\n",
    "    \n",
    "    def get_col(arr, col):\n",
    "        return list(map(lambda x : x[col], arr))\n",
    "    result = []\n",
    "    for mz in mzs:\n",
    "        r_topn = topn_search(mzml_scans, mz, error)\n",
    "        r_topn = [i for i in r_topn if i[2] >= rt_min and i[2] <=rt_max]\n",
    "\n",
    "        mz_list = get_col(get_col(r_topn, 0), 0)\n",
    "        i_list = get_col(get_col(r_topn, 0), 1)\n",
    "        top_list = get_col(r_topn, 1)\n",
    "        \n",
    "        \n",
    "        r_top10 = [i for i in r_topn if i[1] <= (topN - 1)]\n",
    "        if len(r_top10) > 0:\n",
    "            i_list_t10 = get_col(get_col(r_top10, 0), 1)\n",
    "\n",
    "            i_range = str(round(min(i_list_t10), 2)) + '~' + str(round(max(i_list_t10), 2))\n",
    "\n",
    "            n_range = str(int(max(top_list)+1)) + '~' + str(int(min(top_list)+1))\n",
    "\n",
    "            result.append([mz, i_range, n_range, len(i_list_t10)])\n",
    "            d_result = pd.DataFrame(result, columns = ['mz', 'intensity range in topN', 'ranking range', 'total scan in selected topN'])\n",
    "        else:\n",
    "            print('not found within selected top N range!')\n",
    "            continue\n",
    "        \n",
    "    return d_result"
   ]
  },
  {
   "cell_type": "code",
   "execution_count": 169,
   "metadata": {},
   "outputs": [
    {
     "name": "stderr",
     "output_type": "stream",
     "text": [
      "100%|██████████| 945/945 [00:26<00:00, 35.02it/s] \n",
      "100%|██████████| 945/945 [00:27<00:00, 34.34it/s] \n"
     ]
    }
   ],
   "source": [
    "result = topn_summary_b(scans, [225.1576, 245.1617], 50)"
   ]
  },
  {
   "cell_type": "code",
   "execution_count": 170,
   "metadata": {},
   "outputs": [
    {
     "data": {
      "text/html": [
       "<div>\n",
       "<style scoped>\n",
       "    .dataframe tbody tr th:only-of-type {\n",
       "        vertical-align: middle;\n",
       "    }\n",
       "\n",
       "    .dataframe tbody tr th {\n",
       "        vertical-align: top;\n",
       "    }\n",
       "\n",
       "    .dataframe thead th {\n",
       "        text-align: right;\n",
       "    }\n",
       "</style>\n",
       "<table border=\"1\" class=\"dataframe\">\n",
       "  <thead>\n",
       "    <tr style=\"text-align: right;\">\n",
       "      <th></th>\n",
       "      <th>mz</th>\n",
       "      <th>intensity range</th>\n",
       "      <th>ranking range</th>\n",
       "      <th>total scan in selected topN</th>\n",
       "    </tr>\n",
       "  </thead>\n",
       "  <tbody>\n",
       "    <tr>\n",
       "      <td>0</td>\n",
       "      <td>225.1576</td>\n",
       "      <td>87877.27~1148033.6</td>\n",
       "      <td>553~1</td>\n",
       "      <td>337</td>\n",
       "    </tr>\n",
       "    <tr>\n",
       "      <td>1</td>\n",
       "      <td>245.1617</td>\n",
       "      <td>57825.55~1147859.1</td>\n",
       "      <td>2543~1</td>\n",
       "      <td>400</td>\n",
       "    </tr>\n",
       "  </tbody>\n",
       "</table>\n",
       "</div>"
      ],
      "text/plain": [
       "         mz     intensity range ranking range  total scan in selected topN\n",
       "0  225.1576  87877.27~1148033.6         553~1                          337\n",
       "1  245.1617  57825.55~1147859.1        2543~1                          400"
      ]
     },
     "execution_count": 170,
     "metadata": {},
     "output_type": "execute_result"
    }
   ],
   "source": [
    "result"
   ]
  }
 ],
 "metadata": {
  "kernelspec": {
   "display_name": "Python 3",
   "language": "python",
   "name": "python3"
  },
  "language_info": {
   "codemirror_mode": {
    "name": "ipython",
    "version": 3
   },
   "file_extension": ".py",
   "mimetype": "text/x-python",
   "name": "python",
   "nbconvert_exporter": "python",
   "pygments_lexer": "ipython3",
   "version": "3.7.4"
  }
 },
 "nbformat": 4,
 "nbformat_minor": 2
}
