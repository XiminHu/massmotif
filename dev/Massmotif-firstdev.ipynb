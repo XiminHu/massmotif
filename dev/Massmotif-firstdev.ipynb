{
 "cells": [
  {
   "cell_type": "markdown",
   "metadata": {},
   "source": [
    "similarity_to(spec2, round_precision=0)[source]\n",
    "\n",
    "    Compares two spectra and returns cosine\n",
    "\n",
    "Parameters\n",
    "\n",
    "    spec2 (Spectrum) – another pymzml spectrum that is compared to the current spectrum.\n",
    "\n",
    "Keyword Arguments\n",
    "    \n",
    "    round_precision (int) – precision mzs are rounded to, i.e. round( mz, round_precision )\n",
    "\n",
    "Returns\n",
    "    \n",
    "    value between 0 and 1, i.e. the cosine between the two spectra.\n",
    "\n",
    "Return type\n",
    "    \n",
    "    cosine (float)"
   ]
  },
  {
   "cell_type": "markdown",
   "metadata": {},
   "source": [
    "highest_peaks(n)[source]\n",
    "\n",
    "Function to retrieve the n-highest centroided peaks of the spectrum."
   ]
  },
  {
   "cell_type": "code",
   "execution_count": 106,
   "metadata": {},
   "outputs": [],
   "source": [
    "import pymzml\n",
    "import matplotlib.pyplot as plt\n",
    "import numpy as np\n",
    "\n",
    "import pyteomics\n",
    "from pyteomics import mzml, auxiliary\n",
    "\n",
    "import plotly.graph_objects as go\n",
    "\n",
    "import tqdm"
   ]
  },
  {
   "cell_type": "code",
   "execution_count": 85,
   "metadata": {},
   "outputs": [],
   "source": [
    "path = 'D:/UW/massmotif/mzml/DRO_DIE_1ppm_29h_exp1_method_1.mzML'"
   ]
  },
  {
   "cell_type": "code",
   "execution_count": 3,
   "metadata": {},
   "outputs": [],
   "source": [
    "f=mzml.MzML(path)"
   ]
  },
  {
   "cell_type": "code",
   "execution_count": 32,
   "metadata": {},
   "outputs": [],
   "source": [
    "def get_scans(path, ms_all = False, ms_lv = 1):\n",
    "    run = pymzml.run.Reader(path)\n",
    "    scans = []\n",
    "    if ms_all == False:\n",
    "        for scan in run:\n",
    "            if scan.ms_level == ms_lv:\n",
    "                scans.append(scan)\n",
    "    elif ms_all == True:\n",
    "        for scan in run:\n",
    "            scans.append(scan)\n",
    "            \n",
    "    return scans"
   ]
  },
  {
   "cell_type": "code",
   "execution_count": 86,
   "metadata": {},
   "outputs": [],
   "source": [
    "ms2s = get_scans(path, False, 2)"
   ]
  },
  {
   "cell_type": "code",
   "execution_count": 37,
   "metadata": {},
   "outputs": [],
   "source": [
    "def motif_seek(ms2_scans, motifs, error = 0.002, noise_level = 50):\n",
    "    motif_result = []\n",
    "    \n",
    "    motif_range = []\n",
    "    for motif in motifs:\n",
    "        motif_range.append([motif - error, motif + error])\n",
    "    \n",
    "    for scan in ms2_scans:\n",
    "        precursor = scan.selected_precursors[0]['mz']\n",
    "        drop_index = np.argwhere(scan.i <= noise_level)\n",
    "        scan.i = np.delete(scan.i, drop_index)\n",
    "        scan.mz = np.delete(scan.mz, drop_index)\n",
    "        \n",
    "        frag = scan.mz[scan.mz < precursor]\n",
    "        #frag_i = scan.i[: len(frag)] # In case need it\n",
    "        neutral_loss = precursor - frag\n",
    "        \n",
    "        mtf_count = 0\n",
    "        for mtf in motif_range:\n",
    "            mtf_hit = neutral_loss[(mtf[0] < neutral_loss) & (neutral_loss < mtf[1])]\n",
    "            if len(mtf_hit) > 0:\n",
    "                mtf_count += 1\n",
    "        \n",
    "        if mtf_count == len(motifs):\n",
    "            motif_result.append([scan.selected_precursors[0]['mz'], round(scan.scan_time[0],2), scan.ID])\n",
    "        \n",
    "    #motif_seek = list(set(motif_result)) # if merge is needed\n",
    "        \n",
    "    return motif_result"
   ]
  },
  {
   "cell_type": "code",
   "execution_count": 87,
   "metadata": {},
   "outputs": [
    {
     "data": {
      "text/plain": [
       "[[308.162155151367, 7.08, 424922], [308.156855265299, 8.23, 493790]]"
      ]
     },
     "execution_count": 87,
     "metadata": {},
     "output_type": "execute_result"
    }
   ],
   "source": [
    "motif = [41.0265, 18.0105]\n",
    "motif_seek(ms2s, motif, error = 0.002)"
   ]
  },
  {
   "cell_type": "code",
   "execution_count": 92,
   "metadata": {},
   "outputs": [],
   "source": [
    "def find_scan(ms2s, scanid, interactive = True):\n",
    "    \n",
    "    for scan in ms2s:\n",
    "        if scan.ID == scanid:\n",
    "            break\n",
    "    \n",
    "    print('Precursor m/z: {:0.2f}, Scan time: {:0.1f} minute'.format(scan.selected_precursors[0]['mz'], scan.scan_time[0]))\n",
    "    \n",
    "    mz = scan.mz\n",
    "    ints = scan.i\n",
    "    \n",
    "    if interactive == True:\n",
    "        plt.clf()\n",
    "        fig = go.Figure([go.Bar(x=mz, y=ints, marker_color = 'red', width = 0.5,\n",
    "                        hovertemplate =\n",
    "                        'Int: %{y}'+\n",
    "                        '<br>m/z: %{x}<br>')])\n",
    "        fig.update_traces(marker_color='rgb(158,202,225)', marker_line_color='rgb(0,0,0)',\n",
    "                  marker_line_width=0.5, opacity=1)\n",
    "        fig.update_layout(\n",
    "                template = 'simple_white',\n",
    "                width = 1000,\n",
    "                height = 600,\n",
    "                xaxis = dict(title = 'm/z ratio',\n",
    "                        rangeslider=dict(\n",
    "            visible = True\n",
    "        )),\n",
    "                yaxis = dict(\n",
    "                    title = 'Intensity'))\n",
    "        fig.show()\n",
    "    \n",
    "    elif interactive == False:\n",
    "        plt.figure(figsize=(10,5))\n",
    "        plt.bar(mz, ints, width = 1.0)\n",
    "        plt.ticklabel_format(style='sci', axis='y', scilimits=(0,0))\n",
    "        plt.xlabel('m/z')\n",
    "        plt.ylabel('Intensity')\n",
    "        plt.title('MS1 spectrum')\n",
    "\n",
    "    return "
   ]
  },
  {
   "cell_type": "code",
   "execution_count": 93,
   "metadata": {},
   "outputs": [
    {
     "name": "stdout",
     "output_type": "stream",
     "text": [
      "Precursor m/z: 308.16, Scan time: 7.1 minute\n"
     ]
    },
    {
     "data": {
      "application/vnd.plotly.v1+json": {
       "config": {
        "plotlyServerURL": "https://plot.ly"
       },
       "data": [
        {
         "hovertemplate": "Int: %{y}<br>m/z: %{x}<br>",
         "marker": {
          "color": "rgb(158,202,225)",
          "line": {
           "color": "rgb(0,0,0)",
           "width": 0.5
          }
         },
         "opacity": 1,
         "type": "bar",
         "width": 0.5,
         "x": [
          64.01766967773438,
          92.0311050415039,
          106.04283905029297,
          106.05795288085938,
          118.06292724609375,
          130.06076049804688,
          130.07711791992188,
          143.0477294921875,
          156.057373046875,
          157.00949096679688,
          157.0645294189453,
          157.0905303955078,
          158.07394409179688,
          158.10862731933594,
          159.07968139648438,
          159.10682678222656,
          169.06182861328125,
          169.08709716796875,
          170.0706024169922,
          171.0800018310547,
          171.12747192382812,
          171.1586456298828,
          171.19998168945312,
          171.22967529296875,
          171.249267578125,
          171.27362060546875,
          171.2891387939453,
          171.32904052734375,
          171.3521270751953,
          171.4125213623047,
          172.07986450195312,
          172.10546875,
          183.08273315429688,
          195.07855224609375,
          195.1255645751953,
          196.09544372558594,
          196.11781311035156,
          197.09646606445312,
          197.1170654296875,
          198.11264038085938,
          206.07020568847656,
          207.0777587890625,
          209.09767150878906,
          209.14373779296875,
          211.10389709472656,
          211.120849609375,
          211.16287231445312,
          212.11351013183594,
          221.0902099609375,
          221.11329650878906,
          223.11459350585938,
          223.14682006835938,
          223.16082763671875,
          223.18780517578125,
          223.2089080810547,
          224.11619567871094,
          224.14064025878906,
          225.08798217773438,
          225.12136840820312,
          235.1049346923828,
          237.1249542236328,
          237.1431121826172,
          238.09033203125,
          239.1025848388672,
          247.12001037597656,
          249.12112426757812,
          251.10617065429688,
          251.1588897705078,
          252.10487365722656,
          252.12709045410156,
          263.13525390625,
          265.11920166015625,
          266.1373291015625,
          267.1374206542969,
          267.184814453125,
          267.2059326171875,
          267.263916015625,
          267.2921142578125,
          267.33612060546875,
          267.3736572265625,
          272.11541748046875,
          273.1180419921875,
          274.12322998046875,
          274.1794128417969,
          274.27484130859375,
          288.1391906738281,
          290.1501770019531,
          290.19366455078125,
          290.2412109375,
          308.16485595703125,
          308.199462890625,
          308.2192687988281,
          544.2610473632812
         ],
         "y": [
          67.25,
          134.09194946289062,
          50.5625,
          61.08333206176758,
          130.00430297851562,
          59.025001525878906,
          59.0113639831543,
          256.3999938964844,
          257.5556945800781,
          51.625,
          215.9185791015625,
          72.3223648071289,
          398.1632995605469,
          65.51041412353516,
          419.91070556640625,
          104,
          437.6756896972656,
          160.77793884277344,
          124.81944274902344,
          4917.953125,
          502.34722900390625,
          297.9519348144531,
          203.45713806152344,
          126.02941131591797,
          101.03214263916016,
          57.64285659790039,
          52.94230651855469,
          77.25,
          57.272727966308594,
          59.400001525878906,
          148.0067596435547,
          58.003570556640625,
          76.16447448730469,
          523.8356323242188,
          55.625,
          90.92045593261719,
          70.890625,
          218.77841186523438,
          82.93951416015625,
          82.61814880371094,
          72.44642639160156,
          53.6694450378418,
          291.0909118652344,
          102.38888549804688,
          114.07205963134766,
          172.56817626953125,
          50.26630401611328,
          60.125,
          109.2258071899414,
          97.04499816894531,
          670.8047485351562,
          173.6199951171875,
          126.7202377319336,
          94.21052551269531,
          70.01249694824219,
          168.27272033691406,
          159.17286682128906,
          141.82843017578125,
          140.09756469726562,
          67.25,
          91.07142639160156,
          91.75,
          121.6759262084961,
          107.53260803222656,
          104.48521423339844,
          52.64500045776367,
          419.0439453125,
          65.16666412353516,
          55.30882263183594,
          85.07499694824219,
          121.38409423828125,
          71.375,
          76.25,
          2951.35693359375,
          447.037109375,
          391.95513916015625,
          137,
          110.75,
          89.09469604492188,
          105.81666564941406,
          105.7755355834961,
          69.66666412353516,
          1280.7674560546875,
          204.00245666503906,
          59.224998474121094,
          55.761905670166016,
          427.2115478515625,
          129.2045440673828,
          54.532894134521484,
          268.4491271972656,
          55.08333206176758,
          67.59210205078125,
          59
         ]
        }
       ],
       "layout": {
        "height": 600,
        "template": {
         "data": {
          "bar": [
           {
            "error_x": {
             "color": "rgb(36,36,36)"
            },
            "error_y": {
             "color": "rgb(36,36,36)"
            },
            "marker": {
             "line": {
              "color": "white",
              "width": 0.5
             }
            },
            "type": "bar"
           }
          ],
          "barpolar": [
           {
            "marker": {
             "line": {
              "color": "white",
              "width": 0.5
             }
            },
            "type": "barpolar"
           }
          ],
          "carpet": [
           {
            "aaxis": {
             "endlinecolor": "rgb(36,36,36)",
             "gridcolor": "white",
             "linecolor": "white",
             "minorgridcolor": "white",
             "startlinecolor": "rgb(36,36,36)"
            },
            "baxis": {
             "endlinecolor": "rgb(36,36,36)",
             "gridcolor": "white",
             "linecolor": "white",
             "minorgridcolor": "white",
             "startlinecolor": "rgb(36,36,36)"
            },
            "type": "carpet"
           }
          ],
          "choropleth": [
           {
            "colorbar": {
             "outlinewidth": 1,
             "tickcolor": "rgb(36,36,36)",
             "ticks": "outside"
            },
            "type": "choropleth"
           }
          ],
          "contour": [
           {
            "colorbar": {
             "outlinewidth": 1,
             "tickcolor": "rgb(36,36,36)",
             "ticks": "outside"
            },
            "colorscale": [
             [
              0,
              "#440154"
             ],
             [
              0.1111111111111111,
              "#482878"
             ],
             [
              0.2222222222222222,
              "#3e4989"
             ],
             [
              0.3333333333333333,
              "#31688e"
             ],
             [
              0.4444444444444444,
              "#26828e"
             ],
             [
              0.5555555555555556,
              "#1f9e89"
             ],
             [
              0.6666666666666666,
              "#35b779"
             ],
             [
              0.7777777777777778,
              "#6ece58"
             ],
             [
              0.8888888888888888,
              "#b5de2b"
             ],
             [
              1,
              "#fde725"
             ]
            ],
            "type": "contour"
           }
          ],
          "contourcarpet": [
           {
            "colorbar": {
             "outlinewidth": 1,
             "tickcolor": "rgb(36,36,36)",
             "ticks": "outside"
            },
            "type": "contourcarpet"
           }
          ],
          "heatmap": [
           {
            "colorbar": {
             "outlinewidth": 1,
             "tickcolor": "rgb(36,36,36)",
             "ticks": "outside"
            },
            "colorscale": [
             [
              0,
              "#440154"
             ],
             [
              0.1111111111111111,
              "#482878"
             ],
             [
              0.2222222222222222,
              "#3e4989"
             ],
             [
              0.3333333333333333,
              "#31688e"
             ],
             [
              0.4444444444444444,
              "#26828e"
             ],
             [
              0.5555555555555556,
              "#1f9e89"
             ],
             [
              0.6666666666666666,
              "#35b779"
             ],
             [
              0.7777777777777778,
              "#6ece58"
             ],
             [
              0.8888888888888888,
              "#b5de2b"
             ],
             [
              1,
              "#fde725"
             ]
            ],
            "type": "heatmap"
           }
          ],
          "heatmapgl": [
           {
            "colorbar": {
             "outlinewidth": 1,
             "tickcolor": "rgb(36,36,36)",
             "ticks": "outside"
            },
            "colorscale": [
             [
              0,
              "#440154"
             ],
             [
              0.1111111111111111,
              "#482878"
             ],
             [
              0.2222222222222222,
              "#3e4989"
             ],
             [
              0.3333333333333333,
              "#31688e"
             ],
             [
              0.4444444444444444,
              "#26828e"
             ],
             [
              0.5555555555555556,
              "#1f9e89"
             ],
             [
              0.6666666666666666,
              "#35b779"
             ],
             [
              0.7777777777777778,
              "#6ece58"
             ],
             [
              0.8888888888888888,
              "#b5de2b"
             ],
             [
              1,
              "#fde725"
             ]
            ],
            "type": "heatmapgl"
           }
          ],
          "histogram": [
           {
            "marker": {
             "line": {
              "color": "white",
              "width": 0.6
             }
            },
            "type": "histogram"
           }
          ],
          "histogram2d": [
           {
            "colorbar": {
             "outlinewidth": 1,
             "tickcolor": "rgb(36,36,36)",
             "ticks": "outside"
            },
            "colorscale": [
             [
              0,
              "#440154"
             ],
             [
              0.1111111111111111,
              "#482878"
             ],
             [
              0.2222222222222222,
              "#3e4989"
             ],
             [
              0.3333333333333333,
              "#31688e"
             ],
             [
              0.4444444444444444,
              "#26828e"
             ],
             [
              0.5555555555555556,
              "#1f9e89"
             ],
             [
              0.6666666666666666,
              "#35b779"
             ],
             [
              0.7777777777777778,
              "#6ece58"
             ],
             [
              0.8888888888888888,
              "#b5de2b"
             ],
             [
              1,
              "#fde725"
             ]
            ],
            "type": "histogram2d"
           }
          ],
          "histogram2dcontour": [
           {
            "colorbar": {
             "outlinewidth": 1,
             "tickcolor": "rgb(36,36,36)",
             "ticks": "outside"
            },
            "colorscale": [
             [
              0,
              "#440154"
             ],
             [
              0.1111111111111111,
              "#482878"
             ],
             [
              0.2222222222222222,
              "#3e4989"
             ],
             [
              0.3333333333333333,
              "#31688e"
             ],
             [
              0.4444444444444444,
              "#26828e"
             ],
             [
              0.5555555555555556,
              "#1f9e89"
             ],
             [
              0.6666666666666666,
              "#35b779"
             ],
             [
              0.7777777777777778,
              "#6ece58"
             ],
             [
              0.8888888888888888,
              "#b5de2b"
             ],
             [
              1,
              "#fde725"
             ]
            ],
            "type": "histogram2dcontour"
           }
          ],
          "mesh3d": [
           {
            "colorbar": {
             "outlinewidth": 1,
             "tickcolor": "rgb(36,36,36)",
             "ticks": "outside"
            },
            "type": "mesh3d"
           }
          ],
          "parcoords": [
           {
            "line": {
             "colorbar": {
              "outlinewidth": 1,
              "tickcolor": "rgb(36,36,36)",
              "ticks": "outside"
             }
            },
            "type": "parcoords"
           }
          ],
          "pie": [
           {
            "automargin": true,
            "type": "pie"
           }
          ],
          "scatter": [
           {
            "marker": {
             "colorbar": {
              "outlinewidth": 1,
              "tickcolor": "rgb(36,36,36)",
              "ticks": "outside"
             }
            },
            "type": "scatter"
           }
          ],
          "scatter3d": [
           {
            "line": {
             "colorbar": {
              "outlinewidth": 1,
              "tickcolor": "rgb(36,36,36)",
              "ticks": "outside"
             }
            },
            "marker": {
             "colorbar": {
              "outlinewidth": 1,
              "tickcolor": "rgb(36,36,36)",
              "ticks": "outside"
             }
            },
            "type": "scatter3d"
           }
          ],
          "scattercarpet": [
           {
            "marker": {
             "colorbar": {
              "outlinewidth": 1,
              "tickcolor": "rgb(36,36,36)",
              "ticks": "outside"
             }
            },
            "type": "scattercarpet"
           }
          ],
          "scattergeo": [
           {
            "marker": {
             "colorbar": {
              "outlinewidth": 1,
              "tickcolor": "rgb(36,36,36)",
              "ticks": "outside"
             }
            },
            "type": "scattergeo"
           }
          ],
          "scattergl": [
           {
            "marker": {
             "colorbar": {
              "outlinewidth": 1,
              "tickcolor": "rgb(36,36,36)",
              "ticks": "outside"
             }
            },
            "type": "scattergl"
           }
          ],
          "scattermapbox": [
           {
            "marker": {
             "colorbar": {
              "outlinewidth": 1,
              "tickcolor": "rgb(36,36,36)",
              "ticks": "outside"
             }
            },
            "type": "scattermapbox"
           }
          ],
          "scatterpolar": [
           {
            "marker": {
             "colorbar": {
              "outlinewidth": 1,
              "tickcolor": "rgb(36,36,36)",
              "ticks": "outside"
             }
            },
            "type": "scatterpolar"
           }
          ],
          "scatterpolargl": [
           {
            "marker": {
             "colorbar": {
              "outlinewidth": 1,
              "tickcolor": "rgb(36,36,36)",
              "ticks": "outside"
             }
            },
            "type": "scatterpolargl"
           }
          ],
          "scatterternary": [
           {
            "marker": {
             "colorbar": {
              "outlinewidth": 1,
              "tickcolor": "rgb(36,36,36)",
              "ticks": "outside"
             }
            },
            "type": "scatterternary"
           }
          ],
          "surface": [
           {
            "colorbar": {
             "outlinewidth": 1,
             "tickcolor": "rgb(36,36,36)",
             "ticks": "outside"
            },
            "colorscale": [
             [
              0,
              "#440154"
             ],
             [
              0.1111111111111111,
              "#482878"
             ],
             [
              0.2222222222222222,
              "#3e4989"
             ],
             [
              0.3333333333333333,
              "#31688e"
             ],
             [
              0.4444444444444444,
              "#26828e"
             ],
             [
              0.5555555555555556,
              "#1f9e89"
             ],
             [
              0.6666666666666666,
              "#35b779"
             ],
             [
              0.7777777777777778,
              "#6ece58"
             ],
             [
              0.8888888888888888,
              "#b5de2b"
             ],
             [
              1,
              "#fde725"
             ]
            ],
            "type": "surface"
           }
          ],
          "table": [
           {
            "cells": {
             "fill": {
              "color": "rgb(237,237,237)"
             },
             "line": {
              "color": "white"
             }
            },
            "header": {
             "fill": {
              "color": "rgb(217,217,217)"
             },
             "line": {
              "color": "white"
             }
            },
            "type": "table"
           }
          ]
         },
         "layout": {
          "annotationdefaults": {
           "arrowhead": 0,
           "arrowwidth": 1
          },
          "coloraxis": {
           "colorbar": {
            "outlinewidth": 1,
            "tickcolor": "rgb(36,36,36)",
            "ticks": "outside"
           }
          },
          "colorscale": {
           "diverging": [
            [
             0,
             "rgb(103,0,31)"
            ],
            [
             0.1,
             "rgb(178,24,43)"
            ],
            [
             0.2,
             "rgb(214,96,77)"
            ],
            [
             0.3,
             "rgb(244,165,130)"
            ],
            [
             0.4,
             "rgb(253,219,199)"
            ],
            [
             0.5,
             "rgb(247,247,247)"
            ],
            [
             0.6,
             "rgb(209,229,240)"
            ],
            [
             0.7,
             "rgb(146,197,222)"
            ],
            [
             0.8,
             "rgb(67,147,195)"
            ],
            [
             0.9,
             "rgb(33,102,172)"
            ],
            [
             1,
             "rgb(5,48,97)"
            ]
           ],
           "sequential": [
            [
             0,
             "#440154"
            ],
            [
             0.1111111111111111,
             "#482878"
            ],
            [
             0.2222222222222222,
             "#3e4989"
            ],
            [
             0.3333333333333333,
             "#31688e"
            ],
            [
             0.4444444444444444,
             "#26828e"
            ],
            [
             0.5555555555555556,
             "#1f9e89"
            ],
            [
             0.6666666666666666,
             "#35b779"
            ],
            [
             0.7777777777777778,
             "#6ece58"
            ],
            [
             0.8888888888888888,
             "#b5de2b"
            ],
            [
             1,
             "#fde725"
            ]
           ],
           "sequentialminus": [
            [
             0,
             "#440154"
            ],
            [
             0.1111111111111111,
             "#482878"
            ],
            [
             0.2222222222222222,
             "#3e4989"
            ],
            [
             0.3333333333333333,
             "#31688e"
            ],
            [
             0.4444444444444444,
             "#26828e"
            ],
            [
             0.5555555555555556,
             "#1f9e89"
            ],
            [
             0.6666666666666666,
             "#35b779"
            ],
            [
             0.7777777777777778,
             "#6ece58"
            ],
            [
             0.8888888888888888,
             "#b5de2b"
            ],
            [
             1,
             "#fde725"
            ]
           ]
          },
          "colorway": [
           "#1F77B4",
           "#FF7F0E",
           "#2CA02C",
           "#D62728",
           "#9467BD",
           "#8C564B",
           "#E377C2",
           "#7F7F7F",
           "#BCBD22",
           "#17BECF"
          ],
          "font": {
           "color": "rgb(36,36,36)"
          },
          "geo": {
           "bgcolor": "white",
           "lakecolor": "white",
           "landcolor": "white",
           "showlakes": true,
           "showland": true,
           "subunitcolor": "white"
          },
          "hoverlabel": {
           "align": "left"
          },
          "hovermode": "closest",
          "mapbox": {
           "style": "light"
          },
          "paper_bgcolor": "white",
          "plot_bgcolor": "white",
          "polar": {
           "angularaxis": {
            "gridcolor": "rgb(232,232,232)",
            "linecolor": "rgb(36,36,36)",
            "showgrid": false,
            "showline": true,
            "ticks": "outside"
           },
           "bgcolor": "white",
           "radialaxis": {
            "gridcolor": "rgb(232,232,232)",
            "linecolor": "rgb(36,36,36)",
            "showgrid": false,
            "showline": true,
            "ticks": "outside"
           }
          },
          "scene": {
           "xaxis": {
            "backgroundcolor": "white",
            "gridcolor": "rgb(232,232,232)",
            "gridwidth": 2,
            "linecolor": "rgb(36,36,36)",
            "showbackground": true,
            "showgrid": false,
            "showline": true,
            "ticks": "outside",
            "zeroline": false,
            "zerolinecolor": "rgb(36,36,36)"
           },
           "yaxis": {
            "backgroundcolor": "white",
            "gridcolor": "rgb(232,232,232)",
            "gridwidth": 2,
            "linecolor": "rgb(36,36,36)",
            "showbackground": true,
            "showgrid": false,
            "showline": true,
            "ticks": "outside",
            "zeroline": false,
            "zerolinecolor": "rgb(36,36,36)"
           },
           "zaxis": {
            "backgroundcolor": "white",
            "gridcolor": "rgb(232,232,232)",
            "gridwidth": 2,
            "linecolor": "rgb(36,36,36)",
            "showbackground": true,
            "showgrid": false,
            "showline": true,
            "ticks": "outside",
            "zeroline": false,
            "zerolinecolor": "rgb(36,36,36)"
           }
          },
          "shapedefaults": {
           "fillcolor": "black",
           "line": {
            "width": 0
           },
           "opacity": 0.3
          },
          "ternary": {
           "aaxis": {
            "gridcolor": "rgb(232,232,232)",
            "linecolor": "rgb(36,36,36)",
            "showgrid": false,
            "showline": true,
            "ticks": "outside"
           },
           "baxis": {
            "gridcolor": "rgb(232,232,232)",
            "linecolor": "rgb(36,36,36)",
            "showgrid": false,
            "showline": true,
            "ticks": "outside"
           },
           "bgcolor": "white",
           "caxis": {
            "gridcolor": "rgb(232,232,232)",
            "linecolor": "rgb(36,36,36)",
            "showgrid": false,
            "showline": true,
            "ticks": "outside"
           }
          },
          "title": {
           "x": 0.05
          },
          "xaxis": {
           "automargin": true,
           "gridcolor": "rgb(232,232,232)",
           "linecolor": "rgb(36,36,36)",
           "showgrid": false,
           "showline": true,
           "ticks": "outside",
           "title": {
            "standoff": 15
           },
           "zeroline": false,
           "zerolinecolor": "rgb(36,36,36)"
          },
          "yaxis": {
           "automargin": true,
           "gridcolor": "rgb(232,232,232)",
           "linecolor": "rgb(36,36,36)",
           "showgrid": false,
           "showline": true,
           "ticks": "outside",
           "title": {
            "standoff": 15
           },
           "zeroline": false,
           "zerolinecolor": "rgb(36,36,36)"
          }
         }
        },
        "width": 1000,
        "xaxis": {
         "rangeslider": {
          "visible": true
         },
         "title": {
          "text": "m/z ratio"
         }
        },
        "yaxis": {
         "title": {
          "text": "Intensity"
         }
        }
       }
      },
      "text/html": [
       "<div>\n",
       "        \n",
       "        \n",
       "            <div id=\"9747cd34-8299-4b8c-8aa2-1f60f2bb3efb\" class=\"plotly-graph-div\" style=\"height:600px; width:1000px;\"></div>\n",
       "            <script type=\"text/javascript\">\n",
       "                require([\"plotly\"], function(Plotly) {\n",
       "                    window.PLOTLYENV=window.PLOTLYENV || {};\n",
       "                    \n",
       "                if (document.getElementById(\"9747cd34-8299-4b8c-8aa2-1f60f2bb3efb\")) {\n",
       "                    Plotly.newPlot(\n",
       "                        '9747cd34-8299-4b8c-8aa2-1f60f2bb3efb',\n",
       "                        [{\"hovertemplate\": \"Int: %{y}<br>m/z: %{x}<br>\", \"marker\": {\"color\": \"rgb(158,202,225)\", \"line\": {\"color\": \"rgb(0,0,0)\", \"width\": 0.5}}, \"opacity\": 1, \"type\": \"bar\", \"width\": 0.5, \"x\": [64.01766967773438, 92.0311050415039, 106.04283905029297, 106.05795288085938, 118.06292724609375, 130.06076049804688, 130.07711791992188, 143.0477294921875, 156.057373046875, 157.00949096679688, 157.0645294189453, 157.0905303955078, 158.07394409179688, 158.10862731933594, 159.07968139648438, 159.10682678222656, 169.06182861328125, 169.08709716796875, 170.0706024169922, 171.0800018310547, 171.12747192382812, 171.1586456298828, 171.19998168945312, 171.22967529296875, 171.249267578125, 171.27362060546875, 171.2891387939453, 171.32904052734375, 171.3521270751953, 171.4125213623047, 172.07986450195312, 172.10546875, 183.08273315429688, 195.07855224609375, 195.1255645751953, 196.09544372558594, 196.11781311035156, 197.09646606445312, 197.1170654296875, 198.11264038085938, 206.07020568847656, 207.0777587890625, 209.09767150878906, 209.14373779296875, 211.10389709472656, 211.120849609375, 211.16287231445312, 212.11351013183594, 221.0902099609375, 221.11329650878906, 223.11459350585938, 223.14682006835938, 223.16082763671875, 223.18780517578125, 223.2089080810547, 224.11619567871094, 224.14064025878906, 225.08798217773438, 225.12136840820312, 235.1049346923828, 237.1249542236328, 237.1431121826172, 238.09033203125, 239.1025848388672, 247.12001037597656, 249.12112426757812, 251.10617065429688, 251.1588897705078, 252.10487365722656, 252.12709045410156, 263.13525390625, 265.11920166015625, 266.1373291015625, 267.1374206542969, 267.184814453125, 267.2059326171875, 267.263916015625, 267.2921142578125, 267.33612060546875, 267.3736572265625, 272.11541748046875, 273.1180419921875, 274.12322998046875, 274.1794128417969, 274.27484130859375, 288.1391906738281, 290.1501770019531, 290.19366455078125, 290.2412109375, 308.16485595703125, 308.199462890625, 308.2192687988281, 544.2610473632812], \"y\": [67.25, 134.09194946289062, 50.5625, 61.08333206176758, 130.00430297851562, 59.025001525878906, 59.0113639831543, 256.3999938964844, 257.5556945800781, 51.625, 215.9185791015625, 72.3223648071289, 398.1632995605469, 65.51041412353516, 419.91070556640625, 104.0, 437.6756896972656, 160.77793884277344, 124.81944274902344, 4917.953125, 502.34722900390625, 297.9519348144531, 203.45713806152344, 126.02941131591797, 101.03214263916016, 57.64285659790039, 52.94230651855469, 77.25, 57.272727966308594, 59.400001525878906, 148.0067596435547, 58.003570556640625, 76.16447448730469, 523.8356323242188, 55.625, 90.92045593261719, 70.890625, 218.77841186523438, 82.93951416015625, 82.61814880371094, 72.44642639160156, 53.6694450378418, 291.0909118652344, 102.38888549804688, 114.07205963134766, 172.56817626953125, 50.26630401611328, 60.125, 109.2258071899414, 97.04499816894531, 670.8047485351562, 173.6199951171875, 126.7202377319336, 94.21052551269531, 70.01249694824219, 168.27272033691406, 159.17286682128906, 141.82843017578125, 140.09756469726562, 67.25, 91.07142639160156, 91.75, 121.6759262084961, 107.53260803222656, 104.48521423339844, 52.64500045776367, 419.0439453125, 65.16666412353516, 55.30882263183594, 85.07499694824219, 121.38409423828125, 71.375, 76.25, 2951.35693359375, 447.037109375, 391.95513916015625, 137.0, 110.75, 89.09469604492188, 105.81666564941406, 105.7755355834961, 69.66666412353516, 1280.7674560546875, 204.00245666503906, 59.224998474121094, 55.761905670166016, 427.2115478515625, 129.2045440673828, 54.532894134521484, 268.4491271972656, 55.08333206176758, 67.59210205078125, 59.0]}],\n",
       "                        {\"height\": 600, \"template\": {\"data\": {\"bar\": [{\"error_x\": {\"color\": \"rgb(36,36,36)\"}, \"error_y\": {\"color\": \"rgb(36,36,36)\"}, \"marker\": {\"line\": {\"color\": \"white\", \"width\": 0.5}}, \"type\": \"bar\"}], \"barpolar\": [{\"marker\": {\"line\": {\"color\": \"white\", \"width\": 0.5}}, \"type\": \"barpolar\"}], \"carpet\": [{\"aaxis\": {\"endlinecolor\": \"rgb(36,36,36)\", \"gridcolor\": \"white\", \"linecolor\": \"white\", \"minorgridcolor\": \"white\", \"startlinecolor\": \"rgb(36,36,36)\"}, \"baxis\": {\"endlinecolor\": \"rgb(36,36,36)\", \"gridcolor\": \"white\", \"linecolor\": \"white\", \"minorgridcolor\": \"white\", \"startlinecolor\": \"rgb(36,36,36)\"}, \"type\": \"carpet\"}], \"choropleth\": [{\"colorbar\": {\"outlinewidth\": 1, \"tickcolor\": \"rgb(36,36,36)\", \"ticks\": \"outside\"}, \"type\": \"choropleth\"}], \"contour\": [{\"colorbar\": {\"outlinewidth\": 1, \"tickcolor\": \"rgb(36,36,36)\", \"ticks\": \"outside\"}, \"colorscale\": [[0.0, \"#440154\"], [0.1111111111111111, \"#482878\"], [0.2222222222222222, \"#3e4989\"], [0.3333333333333333, \"#31688e\"], [0.4444444444444444, \"#26828e\"], [0.5555555555555556, \"#1f9e89\"], [0.6666666666666666, \"#35b779\"], [0.7777777777777778, \"#6ece58\"], [0.8888888888888888, \"#b5de2b\"], [1.0, \"#fde725\"]], \"type\": \"contour\"}], \"contourcarpet\": [{\"colorbar\": {\"outlinewidth\": 1, \"tickcolor\": \"rgb(36,36,36)\", \"ticks\": \"outside\"}, \"type\": \"contourcarpet\"}], \"heatmap\": [{\"colorbar\": {\"outlinewidth\": 1, \"tickcolor\": \"rgb(36,36,36)\", \"ticks\": \"outside\"}, \"colorscale\": [[0.0, \"#440154\"], [0.1111111111111111, \"#482878\"], [0.2222222222222222, \"#3e4989\"], [0.3333333333333333, \"#31688e\"], [0.4444444444444444, \"#26828e\"], [0.5555555555555556, \"#1f9e89\"], [0.6666666666666666, \"#35b779\"], [0.7777777777777778, \"#6ece58\"], [0.8888888888888888, \"#b5de2b\"], [1.0, \"#fde725\"]], \"type\": \"heatmap\"}], \"heatmapgl\": [{\"colorbar\": {\"outlinewidth\": 1, \"tickcolor\": \"rgb(36,36,36)\", \"ticks\": \"outside\"}, \"colorscale\": [[0.0, \"#440154\"], [0.1111111111111111, \"#482878\"], [0.2222222222222222, \"#3e4989\"], [0.3333333333333333, \"#31688e\"], [0.4444444444444444, \"#26828e\"], [0.5555555555555556, \"#1f9e89\"], [0.6666666666666666, \"#35b779\"], [0.7777777777777778, \"#6ece58\"], [0.8888888888888888, \"#b5de2b\"], [1.0, \"#fde725\"]], \"type\": \"heatmapgl\"}], \"histogram\": [{\"marker\": {\"line\": {\"color\": \"white\", \"width\": 0.6}}, \"type\": \"histogram\"}], \"histogram2d\": [{\"colorbar\": {\"outlinewidth\": 1, \"tickcolor\": \"rgb(36,36,36)\", \"ticks\": \"outside\"}, \"colorscale\": [[0.0, \"#440154\"], [0.1111111111111111, \"#482878\"], [0.2222222222222222, \"#3e4989\"], [0.3333333333333333, \"#31688e\"], [0.4444444444444444, \"#26828e\"], [0.5555555555555556, \"#1f9e89\"], [0.6666666666666666, \"#35b779\"], [0.7777777777777778, \"#6ece58\"], [0.8888888888888888, \"#b5de2b\"], [1.0, \"#fde725\"]], \"type\": \"histogram2d\"}], \"histogram2dcontour\": [{\"colorbar\": {\"outlinewidth\": 1, \"tickcolor\": \"rgb(36,36,36)\", \"ticks\": \"outside\"}, \"colorscale\": [[0.0, \"#440154\"], [0.1111111111111111, \"#482878\"], [0.2222222222222222, \"#3e4989\"], [0.3333333333333333, \"#31688e\"], [0.4444444444444444, \"#26828e\"], [0.5555555555555556, \"#1f9e89\"], [0.6666666666666666, \"#35b779\"], [0.7777777777777778, \"#6ece58\"], [0.8888888888888888, \"#b5de2b\"], [1.0, \"#fde725\"]], \"type\": \"histogram2dcontour\"}], \"mesh3d\": [{\"colorbar\": {\"outlinewidth\": 1, \"tickcolor\": \"rgb(36,36,36)\", \"ticks\": \"outside\"}, \"type\": \"mesh3d\"}], \"parcoords\": [{\"line\": {\"colorbar\": {\"outlinewidth\": 1, \"tickcolor\": \"rgb(36,36,36)\", \"ticks\": \"outside\"}}, \"type\": \"parcoords\"}], \"pie\": [{\"automargin\": true, \"type\": \"pie\"}], \"scatter\": [{\"marker\": {\"colorbar\": {\"outlinewidth\": 1, \"tickcolor\": \"rgb(36,36,36)\", \"ticks\": \"outside\"}}, \"type\": \"scatter\"}], \"scatter3d\": [{\"line\": {\"colorbar\": {\"outlinewidth\": 1, \"tickcolor\": \"rgb(36,36,36)\", \"ticks\": \"outside\"}}, \"marker\": {\"colorbar\": {\"outlinewidth\": 1, \"tickcolor\": \"rgb(36,36,36)\", \"ticks\": \"outside\"}}, \"type\": \"scatter3d\"}], \"scattercarpet\": [{\"marker\": {\"colorbar\": {\"outlinewidth\": 1, \"tickcolor\": \"rgb(36,36,36)\", \"ticks\": \"outside\"}}, \"type\": \"scattercarpet\"}], \"scattergeo\": [{\"marker\": {\"colorbar\": {\"outlinewidth\": 1, \"tickcolor\": \"rgb(36,36,36)\", \"ticks\": \"outside\"}}, \"type\": \"scattergeo\"}], \"scattergl\": [{\"marker\": {\"colorbar\": {\"outlinewidth\": 1, \"tickcolor\": \"rgb(36,36,36)\", \"ticks\": \"outside\"}}, \"type\": \"scattergl\"}], \"scattermapbox\": [{\"marker\": {\"colorbar\": {\"outlinewidth\": 1, \"tickcolor\": \"rgb(36,36,36)\", \"ticks\": \"outside\"}}, \"type\": \"scattermapbox\"}], \"scatterpolar\": [{\"marker\": {\"colorbar\": {\"outlinewidth\": 1, \"tickcolor\": \"rgb(36,36,36)\", \"ticks\": \"outside\"}}, \"type\": \"scatterpolar\"}], \"scatterpolargl\": [{\"marker\": {\"colorbar\": {\"outlinewidth\": 1, \"tickcolor\": \"rgb(36,36,36)\", \"ticks\": \"outside\"}}, \"type\": \"scatterpolargl\"}], \"scatterternary\": [{\"marker\": {\"colorbar\": {\"outlinewidth\": 1, \"tickcolor\": \"rgb(36,36,36)\", \"ticks\": \"outside\"}}, \"type\": \"scatterternary\"}], \"surface\": [{\"colorbar\": {\"outlinewidth\": 1, \"tickcolor\": \"rgb(36,36,36)\", \"ticks\": \"outside\"}, \"colorscale\": [[0.0, \"#440154\"], [0.1111111111111111, \"#482878\"], [0.2222222222222222, \"#3e4989\"], [0.3333333333333333, \"#31688e\"], [0.4444444444444444, \"#26828e\"], [0.5555555555555556, \"#1f9e89\"], [0.6666666666666666, \"#35b779\"], [0.7777777777777778, \"#6ece58\"], [0.8888888888888888, \"#b5de2b\"], [1.0, \"#fde725\"]], \"type\": \"surface\"}], \"table\": [{\"cells\": {\"fill\": {\"color\": \"rgb(237,237,237)\"}, \"line\": {\"color\": \"white\"}}, \"header\": {\"fill\": {\"color\": \"rgb(217,217,217)\"}, \"line\": {\"color\": \"white\"}}, \"type\": \"table\"}]}, \"layout\": {\"annotationdefaults\": {\"arrowhead\": 0, \"arrowwidth\": 1}, \"coloraxis\": {\"colorbar\": {\"outlinewidth\": 1, \"tickcolor\": \"rgb(36,36,36)\", \"ticks\": \"outside\"}}, \"colorscale\": {\"diverging\": [[0.0, \"rgb(103,0,31)\"], [0.1, \"rgb(178,24,43)\"], [0.2, \"rgb(214,96,77)\"], [0.3, \"rgb(244,165,130)\"], [0.4, \"rgb(253,219,199)\"], [0.5, \"rgb(247,247,247)\"], [0.6, \"rgb(209,229,240)\"], [0.7, \"rgb(146,197,222)\"], [0.8, \"rgb(67,147,195)\"], [0.9, \"rgb(33,102,172)\"], [1.0, \"rgb(5,48,97)\"]], \"sequential\": [[0.0, \"#440154\"], [0.1111111111111111, \"#482878\"], [0.2222222222222222, \"#3e4989\"], [0.3333333333333333, \"#31688e\"], [0.4444444444444444, \"#26828e\"], [0.5555555555555556, \"#1f9e89\"], [0.6666666666666666, \"#35b779\"], [0.7777777777777778, \"#6ece58\"], [0.8888888888888888, \"#b5de2b\"], [1.0, \"#fde725\"]], \"sequentialminus\": [[0.0, \"#440154\"], [0.1111111111111111, \"#482878\"], [0.2222222222222222, \"#3e4989\"], [0.3333333333333333, \"#31688e\"], [0.4444444444444444, \"#26828e\"], [0.5555555555555556, \"#1f9e89\"], [0.6666666666666666, \"#35b779\"], [0.7777777777777778, \"#6ece58\"], [0.8888888888888888, \"#b5de2b\"], [1.0, \"#fde725\"]]}, \"colorway\": [\"#1F77B4\", \"#FF7F0E\", \"#2CA02C\", \"#D62728\", \"#9467BD\", \"#8C564B\", \"#E377C2\", \"#7F7F7F\", \"#BCBD22\", \"#17BECF\"], \"font\": {\"color\": \"rgb(36,36,36)\"}, \"geo\": {\"bgcolor\": \"white\", \"lakecolor\": \"white\", \"landcolor\": \"white\", \"showlakes\": true, \"showland\": true, \"subunitcolor\": \"white\"}, \"hoverlabel\": {\"align\": \"left\"}, \"hovermode\": \"closest\", \"mapbox\": {\"style\": \"light\"}, \"paper_bgcolor\": \"white\", \"plot_bgcolor\": \"white\", \"polar\": {\"angularaxis\": {\"gridcolor\": \"rgb(232,232,232)\", \"linecolor\": \"rgb(36,36,36)\", \"showgrid\": false, \"showline\": true, \"ticks\": \"outside\"}, \"bgcolor\": \"white\", \"radialaxis\": {\"gridcolor\": \"rgb(232,232,232)\", \"linecolor\": \"rgb(36,36,36)\", \"showgrid\": false, \"showline\": true, \"ticks\": \"outside\"}}, \"scene\": {\"xaxis\": {\"backgroundcolor\": \"white\", \"gridcolor\": \"rgb(232,232,232)\", \"gridwidth\": 2, \"linecolor\": \"rgb(36,36,36)\", \"showbackground\": true, \"showgrid\": false, \"showline\": true, \"ticks\": \"outside\", \"zeroline\": false, \"zerolinecolor\": \"rgb(36,36,36)\"}, \"yaxis\": {\"backgroundcolor\": \"white\", \"gridcolor\": \"rgb(232,232,232)\", \"gridwidth\": 2, \"linecolor\": \"rgb(36,36,36)\", \"showbackground\": true, \"showgrid\": false, \"showline\": true, \"ticks\": \"outside\", \"zeroline\": false, \"zerolinecolor\": \"rgb(36,36,36)\"}, \"zaxis\": {\"backgroundcolor\": \"white\", \"gridcolor\": \"rgb(232,232,232)\", \"gridwidth\": 2, \"linecolor\": \"rgb(36,36,36)\", \"showbackground\": true, \"showgrid\": false, \"showline\": true, \"ticks\": \"outside\", \"zeroline\": false, \"zerolinecolor\": \"rgb(36,36,36)\"}}, \"shapedefaults\": {\"fillcolor\": \"black\", \"line\": {\"width\": 0}, \"opacity\": 0.3}, \"ternary\": {\"aaxis\": {\"gridcolor\": \"rgb(232,232,232)\", \"linecolor\": \"rgb(36,36,36)\", \"showgrid\": false, \"showline\": true, \"ticks\": \"outside\"}, \"baxis\": {\"gridcolor\": \"rgb(232,232,232)\", \"linecolor\": \"rgb(36,36,36)\", \"showgrid\": false, \"showline\": true, \"ticks\": \"outside\"}, \"bgcolor\": \"white\", \"caxis\": {\"gridcolor\": \"rgb(232,232,232)\", \"linecolor\": \"rgb(36,36,36)\", \"showgrid\": false, \"showline\": true, \"ticks\": \"outside\"}}, \"title\": {\"x\": 0.05}, \"xaxis\": {\"automargin\": true, \"gridcolor\": \"rgb(232,232,232)\", \"linecolor\": \"rgb(36,36,36)\", \"showgrid\": false, \"showline\": true, \"ticks\": \"outside\", \"title\": {\"standoff\": 15}, \"zeroline\": false, \"zerolinecolor\": \"rgb(36,36,36)\"}, \"yaxis\": {\"automargin\": true, \"gridcolor\": \"rgb(232,232,232)\", \"linecolor\": \"rgb(36,36,36)\", \"showgrid\": false, \"showline\": true, \"ticks\": \"outside\", \"title\": {\"standoff\": 15}, \"zeroline\": false, \"zerolinecolor\": \"rgb(36,36,36)\"}}}, \"width\": 1000, \"xaxis\": {\"rangeslider\": {\"visible\": true}, \"title\": {\"text\": \"m/z ratio\"}}, \"yaxis\": {\"title\": {\"text\": \"Intensity\"}}},\n",
       "                        {\"responsive\": true}\n",
       "                    ).then(function(){\n",
       "                            \n",
       "var gd = document.getElementById('9747cd34-8299-4b8c-8aa2-1f60f2bb3efb');\n",
       "var x = new MutationObserver(function (mutations, observer) {{\n",
       "        var display = window.getComputedStyle(gd).display;\n",
       "        if (!display || display === 'none') {{\n",
       "            console.log([gd, 'removed!']);\n",
       "            Plotly.purge(gd);\n",
       "            observer.disconnect();\n",
       "        }}\n",
       "}});\n",
       "\n",
       "// Listen for the removal of the full notebook cells\n",
       "var notebookContainer = gd.closest('#notebook-container');\n",
       "if (notebookContainer) {{\n",
       "    x.observe(notebookContainer, {childList: true});\n",
       "}}\n",
       "\n",
       "// Listen for the clearing of the current output cell\n",
       "var outputEl = gd.closest('.output');\n",
       "if (outputEl) {{\n",
       "    x.observe(outputEl, {childList: true});\n",
       "}}\n",
       "\n",
       "                        })\n",
       "                };\n",
       "                });\n",
       "            </script>\n",
       "        </div>"
      ]
     },
     "metadata": {},
     "output_type": "display_data"
    },
    {
     "data": {
      "text/plain": [
       "<Figure size 432x288 with 0 Axes>"
      ]
     },
     "metadata": {},
     "output_type": "display_data"
    }
   ],
   "source": [
    "test1 = find_scan(ms2s, 424922)"
   ]
  },
  {
   "cell_type": "code",
   "execution_count": 124,
   "metadata": {},
   "outputs": [],
   "source": [
    "def cos_one(input_scan, ms2_scans, score_thres = 0.9):\n",
    "    count = 0\n",
    "    for scan in ms2_scans:\n",
    "        score = input_scan.similarity_to(scan, round_precision=0)\n",
    "        if score >= score_thres:\n",
    "            count +=1\n",
    "            print(count)\n",
    "    print('one scan finished')\n",
    "                        \n",
    "    return count"
   ]
  },
  {
   "cell_type": "code",
   "execution_count": 70,
   "metadata": {},
   "outputs": [
    {
     "data": {
      "text/plain": [
       "{'index': 55,\n",
       " 'id': 'scanId=13414',\n",
       " 'defaultArrayLength': 5288,\n",
       " 'scanList': {'count': 1,\n",
       "  'scan': [{'scanWindowList': {'count': 1,\n",
       "     'scanWindow': [{'scan window lower limit': 50.02774685283 m/z,\n",
       "       'scan window upper limit': 699.154243725482 m/z}]},\n",
       "    'scan start time': 0.223433333333 minute}],\n",
       "  'no combination': ''},\n",
       " 'precursorList': {'count': 1,\n",
       "  'precursor': [{'spectrumRef': 'scanId=12593',\n",
       "    'isolationWindow': {'isolation window target m/z': 196.992283472522 m/z},\n",
       "    'selectedIonList': {'count': 1,\n",
       "     'selectedIon': [{'selected ion m/z': 196.992283472522 m/z,\n",
       "       'peak intensity': 50338.708622932434 number of detector counts}]},\n",
       "    'activation': {'beam-type collision-induced dissociation': '',\n",
       "     'collision energy': 20.0 electronvolt}}]},\n",
       " 'negative scan': '',\n",
       " 'base peak m/z': 87.001612633378 m/z,\n",
       " 'base peak intensity': 39120.7891 number of detector counts,\n",
       " 'total ion current': 381039.188 number of detector counts,\n",
       " 'ms level': 2,\n",
       " 'MSn spectrum': '',\n",
       " 'centroid spectrum': '',\n",
       " 'lowest observed m/z': 50.02774685283 m/z,\n",
       " 'highest observed m/z': 699.154243725482 m/z,\n",
       " 'spectrum title': 'DRO DIE 1ppm 10h exp1_method 1.13414.13414. File:\"DRO DIE 1ppm 10h exp1_method 1.d\", NativeID:\"scanId=13414\"',\n",
       " 'count': 2,\n",
       " 'm/z array': array([ 50.02775 ,  50.20411 ,  50.237053, ..., 698.499   , 698.9754  ,\n",
       "        699.15424 ], dtype=float32),\n",
       " 'intensity array': array([ 5.25    , 12.625   ,  6.25    , ...,  8.125   , 16.017857,\n",
       "        24.45    ], dtype=float32)}"
      ]
     },
     "execution_count": 70,
     "metadata": {},
     "output_type": "execute_result"
    }
   ],
   "source": [
    "f[55]"
   ]
  }
 ],
 "metadata": {
  "kernelspec": {
   "display_name": "Python 3",
   "language": "python",
   "name": "python3"
  },
  "language_info": {
   "codemirror_mode": {
    "name": "ipython",
    "version": 3
   },
   "file_extension": ".py",
   "mimetype": "text/x-python",
   "name": "python",
   "nbconvert_exporter": "python",
   "pygments_lexer": "ipython3",
   "version": "3.7.4"
  }
 },
 "nbformat": 4,
 "nbformat_minor": 2
}
