{
 "cells": [
  {
   "cell_type": "markdown",
   "metadata": {},
   "source": [
    "similarity_to(spec2, round_precision=0)[source]\n",
    "\n",
    "    Compares two spectra and returns cosine\n",
    "\n",
    "Parameters\n",
    "\n",
    "    spec2 (Spectrum) – another pymzml spectrum that is compared to the current spectrum.\n",
    "\n",
    "Keyword Arguments\n",
    "    \n",
    "    round_precision (int) – precision mzs are rounded to, i.e. round( mz, round_precision )\n",
    "\n",
    "Returns\n",
    "    \n",
    "    value between 0 and 1, i.e. the cosine between the two spectra.\n",
    "\n",
    "Return type\n",
    "    \n",
    "    cosine (float)"
   ]
  },
  {
   "cell_type": "markdown",
   "metadata": {},
   "source": [
    "highest_peaks(n)[source]\n",
    "\n",
    "Function to retrieve the n-highest centroided peaks of the spectrum."
   ]
  },
  {
   "cell_type": "code",
   "execution_count": 1,
   "metadata": {},
   "outputs": [],
   "source": [
    "import pymzml\n",
    "import matplotlib.pyplot as plt\n",
    "import numpy as np\n",
    "\n",
    "import pyteomics\n",
    "from pyteomics import mzml, auxiliary\n",
    "\n",
    "import plotly.graph_objects as go\n",
    "\n",
    "import pandas as pd"
   ]
  },
  {
   "cell_type": "code",
   "execution_count": 2,
   "metadata": {},
   "outputs": [],
   "source": [
    "path = 'D:/UW/massmotif/mzml/DRO_DIE_1ppm_29h_exp1_method_1.mzML'"
   ]
  },
  {
   "cell_type": "code",
   "execution_count": 3,
   "metadata": {},
   "outputs": [],
   "source": [
    "f=mzml.MzML(path)"
   ]
  },
  {
   "cell_type": "code",
   "execution_count": 4,
   "metadata": {},
   "outputs": [],
   "source": [
    "def get_scans(path, ms_all = False, ms_lv = 1):\n",
    "    run = pymzml.run.Reader(path)\n",
    "    scans = []\n",
    "    if ms_all == False:\n",
    "        for scan in run:\n",
    "            if scan.ms_level == ms_lv:\n",
    "                scans.append(scan)\n",
    "    elif ms_all == True:\n",
    "        for scan in run:\n",
    "            scans.append(scan)\n",
    "            \n",
    "    return scans"
   ]
  },
  {
   "cell_type": "code",
   "execution_count": 5,
   "metadata": {},
   "outputs": [],
   "source": [
    "ms2s = get_scans(path, False, 2)"
   ]
  },
  {
   "cell_type": "markdown",
   "metadata": {},
   "source": [
    "- use first5 rather than precursor alone -> 100 baseline for first5 -> loop until precursor - 100 \n",
    "- group result with precursor+retention time(0.5 min)"
   ]
  },
  {
   "cell_type": "code",
   "execution_count": 8,
   "metadata": {},
   "outputs": [],
   "source": [
    "def motif_seek(ms2_scans, motifs, error = 0.002, noise_level = 10, precursor_base = 500, top_frags = 5, precursor_dist = 50, mzrange = [0, 500], rtrange = [0, 20]):\n",
    "    motif_result = []\n",
    "    motif_range = []\n",
    "    for motif in motifs:\n",
    "        motif_range.append([motif - error, motif + error])\n",
    "    \n",
    "    for scan in ms2_scans:\n",
    "        precursor = scan.selected_precursors[0]['mz']\n",
    "        drop_index = np.argwhere(scan.i <= noise_level)\n",
    "        scan.i = np.delete(scan.i, drop_index)\n",
    "        scan.mz = np.delete(scan.mz, drop_index)\n",
    "        \n",
    "        frag = scan.mz[scan.mz < precursor]\n",
    "        frag_i = scan.i[: len(frag)] # In case need it\n",
    "        base_index = np.argwhere(frag_i >= precursor_base)\n",
    "        top_list = sorted(frag[base_index])[-top_frags : ]\n",
    "        top_range = precursor - precursor_dist\n",
    "        top_list = [top for top in top_list if top >= top_range]\n",
    "        \n",
    "        \n",
    "        neutral_loss = precursor - frag\n",
    "        for top_frag in top_list:\n",
    "            neutral_loss_top = top_frag - frag\n",
    "            neutral_loss_top = neutral_loss_top[neutral_loss_top > 0]\n",
    "            neutral_loss = np.append(neutral_loss, neutral_loss_top)\n",
    "        \n",
    "        mtf_count = 0\n",
    "        for mtf in motif_range:\n",
    "            mtf_hit = neutral_loss[(mtf[0] < neutral_loss) & (neutral_loss < mtf[1])]\n",
    "            if len(mtf_hit) > 0:\n",
    "                mtf_count += 1\n",
    "        \n",
    "        if mtf_count == len(motifs):\n",
    "            motif_result.append([scan.selected_precursors[0]['mz'], round(scan.scan_time[0],2), scan.ID])\n",
    "    \n",
    "    result = sorted(motif_result)\n",
    "    d_motif = pd.DataFrame(result, columns = ['mz', 'rt', 'scanID']) \n",
    "    d_motif = d_motif[(d_motif['mz'] < mzrange[1]) \n",
    "                    & (d_motif['mz'] > mzrange[0])\n",
    "                    & (d_motif['rt'] > rtrange[0])\n",
    "                    & (d_motif['rt'] < rtrange[1])]\n",
    "    d_motif.sort_values(by=['mz', 'rt'], inplace=True)\n",
    "    d_motif.reset_index(inplace=True)\n",
    "    d_motif.drop(columns = ['index'], inplace=True)\n",
    "\n",
    "    return d_motif"
   ]
  },
  {
   "cell_type": "code",
   "execution_count": 9,
   "metadata": {},
   "outputs": [],
   "source": [
    "motif = [41.0265, 18.0105]\n",
    "#motif = [41.0265]\n",
    "result = motif_seek(ms2s, motif, error = 0.01, noise_level = 10, precursor_base = 500, mzrange = [200, 400], rtrange = [2, 10])"
   ]
  },
  {
   "cell_type": "code",
   "execution_count": 39,
   "metadata": {},
   "outputs": [],
   "source": [
    "def motif_export(motif_result, export_name='Motif.xlsx'):\n",
    "    writer = pd.ExcelWriter(export_name, engine='xlsxwriter')\n",
    "    for i,j in motif_result.groupby('mz'):\n",
    "        d_iter = pd.DataFrame(j)\n",
    "        d_iter.to_excel(writer, sheet_name=str(round(i,2)))\n",
    "    writer.save()\n",
    "    \n",
    "    return"
   ]
  },
  {
   "cell_type": "code",
   "execution_count": 40,
   "metadata": {},
   "outputs": [],
   "source": [
    "motif_export(result)"
   ]
  },
  {
   "cell_type": "code",
   "execution_count": null,
   "metadata": {},
   "outputs": [],
   "source": [
    "def find_scan(ms2s, scanid, interactive = True):\n",
    "    \n",
    "    for scan in ms2s:\n",
    "        if scan.ID == scanid:\n",
    "            break\n",
    "    \n",
    "    print('Precursor m/z: {:0.2f}, Scan time: {:0.1f} minute'.format(scan.selected_precursors[0]['mz'], scan.scan_time[0]))\n",
    "    \n",
    "    mz = scan.mz\n",
    "    ints = scan.i\n",
    "    \n",
    "    if interactive == True:\n",
    "        plt.clf()\n",
    "        fig = go.Figure([go.Bar(x=mz, y=ints, marker_color = 'red', width = 0.5,\n",
    "                        hovertemplate =\n",
    "                        'Int: %{y}'+\n",
    "                        '<br>m/z: %{x}<br>')])\n",
    "        fig.update_traces(marker_color='rgb(158,202,225)', marker_line_color='rgb(0,0,0)',\n",
    "                  marker_line_width=0.5, opacity=1)\n",
    "        fig.update_layout(\n",
    "                template = 'simple_white',\n",
    "                width = 1000,\n",
    "                height = 600,\n",
    "                xaxis = dict(title = 'm/z ratio',\n",
    "                        rangeslider=dict(\n",
    "            visible = True\n",
    "        )),\n",
    "                yaxis = dict(\n",
    "                    title = 'Intensity'))\n",
    "        fig.show()\n",
    "    \n",
    "    elif interactive == False:\n",
    "        plt.figure(figsize=(10,5))\n",
    "        plt.bar(mz, ints, width = 1.0)\n",
    "        plt.ticklabel_format(style='sci', axis='y', scilimits=(0,0))\n",
    "        plt.xlabel('m/z')\n",
    "        plt.ylabel('Intensity')\n",
    "        plt.title('MS1 spectrum')\n",
    "        plt.xlim(0,340)\n",
    "\n",
    "    return "
   ]
  },
  {
   "cell_type": "code",
   "execution_count": null,
   "metadata": {},
   "outputs": [],
   "source": [
    "test1 = find_scan(ms2s, 354961, True)"
   ]
  },
  {
   "cell_type": "code",
   "execution_count": null,
   "metadata": {},
   "outputs": [],
   "source": [
    "def cos_one(input_scan, ms2_scans, score_thres = 0.9):\n",
    "    count = 0\n",
    "    for scan in ms2_scans:\n",
    "        score = input_scan.similarity_to(scan, round_precision=0)\n",
    "        if score >= score_thres:\n",
    "            count +=1\n",
    "            print(count)\n",
    "    print('one scan finished')\n",
    "                        \n",
    "    return count"
   ]
  },
  {
   "cell_type": "code",
   "execution_count": null,
   "metadata": {},
   "outputs": [],
   "source": []
  },
  {
   "cell_type": "code",
   "execution_count": null,
   "metadata": {},
   "outputs": [],
   "source": [
    "f[60]"
   ]
  }
 ],
 "metadata": {
  "kernelspec": {
   "display_name": "Python 3",
   "language": "python",
   "name": "python3"
  },
  "language_info": {
   "codemirror_mode": {
    "name": "ipython",
    "version": 3
   },
   "file_extension": ".py",
   "mimetype": "text/x-python",
   "name": "python",
   "nbconvert_exporter": "python",
   "pygments_lexer": "ipython3",
   "version": "3.7.4"
  }
 },
 "nbformat": 4,
 "nbformat_minor": 2
}
